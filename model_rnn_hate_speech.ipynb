{
  "nbformat": 4,
  "nbformat_minor": 0,
  "metadata": {
    "kernelspec": {
      "name": "python3",
      "display_name": "Python 3",
      "language": "python"
    },
    "language_info": {
      "name": "python",
      "version": "3.6.4",
      "mimetype": "text/x-python",
      "codemirror_mode": {
        "name": "ipython",
        "version": 3
      },
      "pygments_lexer": "ipython3",
      "nbconvert_exporter": "python",
      "file_extension": ".py"
    },
    "colab": {
      "name": "model-rnn-hate-speech.ipynb",
      "provenance": [],
      "include_colab_link": true
    }
  },
  "cells": [
    {
      "cell_type": "markdown",
      "metadata": {
        "id": "view-in-github",
        "colab_type": "text"
      },
      "source": [
        "<a href=\"https://colab.research.google.com/github/Mahdi-0599/NLP-HATESPEECH/blob/master/model_rnn_hate_speech.ipynb\" target=\"_parent\"><img src=\"https://colab.research.google.com/assets/colab-badge.svg\" alt=\"Open In Colab\"/></a>"
      ]
    },
    {
      "cell_type": "markdown",
      "metadata": {
        "_cell_guid": "79c7e3d0-c299-4dcb-8224-4455121ee9b0",
        "_uuid": "d629ff2d2480ee46fbb7e2d37f6b5fab8052498a",
        "collapsed": true,
        "id": "7PqlK-1iDWar",
        "colab_type": "text"
      },
      "source": [
        "* # Import the necessary libraries"
      ]
    },
    {
      "cell_type": "code",
      "metadata": {
        "trusted": true,
        "_uuid": "d6fb32fd69316596e236eab5fb8cf77c848508c3",
        "id": "5P9N6WJuDWau",
        "colab_type": "code",
        "colab": {}
      },
      "source": [
        "import pandas as pd\n",
        "import numpy as np\n",
        "import matplotlib.pyplot as plt\n",
        "import seaborn as sns\n",
        "from sklearn.model_selection import train_test_split\n",
        "from sklearn.preprocessing import LabelEncoder\n",
        "from keras.models import Model\n",
        "from keras.layers import LSTM, Activation, Dense, Dropout, Input, Embedding\n",
        "from keras.optimizers import RMSprop\n",
        "from keras.preprocessing.text import Tokenizer\n",
        "from keras.preprocessing import sequence\n",
        "from keras.utils import to_categorical\n",
        "from keras.callbacks import EarlyStopping\n",
        "%matplotlib inline"
      ],
      "execution_count": null,
      "outputs": []
    },
    {
      "cell_type": "markdown",
      "metadata": {
        "_uuid": "f674695f1742479cefdeec0e81ab469f7b6ec90f",
        "id": "2Farz2_YDWa4",
        "colab_type": "text"
      },
      "source": [
        "### Load the data into Pandas dataframe"
      ]
    },
    {
      "cell_type": "code",
      "metadata": {
        "trusted": true,
        "id": "0O50tH2SDWa5",
        "colab_type": "code",
        "colab": {},
        "outputId": "0f662150-5d8e-4d50-f78f-7fbfe8daff9d"
      },
      "source": [
        "df = pd.read_csv('../input/hate-speech-twitter-train-and-test/train_E6oV3lV.csv',delimiter=',',encoding='latin-1')\n",
        "df"
      ],
      "execution_count": null,
      "outputs": [
        {
          "output_type": "execute_result",
          "data": {
            "text/plain": [
              "          id  label                                              tweet\n",
              "0          1      0   @user when a father is dysfunctional and is s...\n",
              "1          2      0  @user @user thanks for #lyft credit i can't us...\n",
              "2          3      0                                bihday your majesty\n",
              "3          4      0  #model   i love u take with u all the time in ...\n",
              "4          5      0             factsguide: society now    #motivation\n",
              "5          6      0  [2/2] huge fan fare and big talking before the...\n",
              "6          7      0   @user camping tomorrow @user @user @user @use...\n",
              "7          8      0  the next school year is the year for exams.Ã°Â...\n",
              "8          9      0  we won!!! love the land!!! #allin #cavs #champ...\n",
              "9         10      0   @user @user welcome here !  i'm   it's so #gr...\n",
              "10        11      0   Ã¢ÂÂ #ireland consumer price index (mom) cl...\n",
              "11        12      0  we are so selfish. #orlando #standwithorlando ...\n",
              "12        13      0  i get to see my daddy today!!   #80days #getti...\n",
              "13        14      1  @user #cnn calls #michigan middle school 'buil...\n",
              "14        15      1  no comment!  in #australia   #opkillingbay #se...\n",
              "15        16      0  ouch...junior is angryÃ°ÂÂÂ#got7 #junior #y...\n",
              "16        17      0  i am thankful for having a paner. #thankful #p...\n",
              "17        18      1                             retweet if you agree! \n",
              "18        19      0  its #friday! Ã°ÂÂÂ smiles all around via ig...\n",
              "19        20      0  as we all know, essential oils are not made of...\n",
              "20        21      0  #euro2016 people blaming ha for conceded goal ...\n",
              "21        22      0  sad little dude..   #badday #coneofshame #cats...\n",
              "22        23      0  product of the day: happy man #wine tool  who'...\n",
              "23        24      1    @user @user lumpy says i am a . prove it lumpy.\n",
              "24        25      0   @user #tgif   #ff to my #gamedev #indiedev #i...\n",
              "25        26      0  beautiful sign by vendor 80 for $45.00!! #upsi...\n",
              "26        27      0   @user all #smiles when #media is   !! Ã°ÂÂÂ...\n",
              "27        28      0  we had a great panel on the mediatization of t...\n",
              "28        29      0  happy father's day @user Ã°ÂÂÂÃ°ÂÂÂÃ°ÂÂ...\n",
              "29        30      0  50 people went to nightclub to have a good nig...\n",
              "...      ...    ...                                                ...\n",
              "31932  31933      0                               @user thanks gemma  \n",
              "31933  31934      1  @user judd is a  &amp; #homophobic #freemilo #...\n",
              "31934  31935      1  lady banned from kentucky mall. @user  #jcpenn...\n",
              "31935  31936      0  ugh i'm trying to enjoy my happy hour drink &a...\n",
              "31936  31937      0  want to know how to live a   life? do more thi...\n",
              "31937  31938      0                             love island Ã°ÂÂÂ  \n",
              "31938  31939      0  my fav actor #vijaysethupathi ! my fav actress...\n",
              "31939  31940      0  whew  Ã°ÂÂÂ\n",
              " it's a productive and   #friday!!!\n",
              "31940  31941      0                 @user she's finally here! @user   \n",
              "31941  31942      0  passed first year of uni #yay #love #pass #uni...\n",
              "31942  31943      0  this week is flying by   #humpday - #wednesday...\n",
              "31943  31944      0   @user modeling photoshoot this friday yay #mo...\n",
              "31944  31945      0  you're surrounded by people who love you (even...\n",
              "31945  31946      0  feel like... Ã°ÂÂÂÃ°ÂÂÂ¶Ã°ÂÂÂ #dog #su...\n",
              "31946  31947      1  @user omfg i'm offended! i'm a  mailbox and i'...\n",
              "31947  31948      1  @user @user you don't have the balls to hashta...\n",
              "31948  31949      1   makes you ask yourself, who am i? then am i a...\n",
              "31949  31950      0  hear one of my new songs! don't go - katie ell...\n",
              "31950  31951      0   @user you can try to 'tail' us to stop, 'butt...\n",
              "31951  31952      0  i've just posted a new blog: #secondlife #lone...\n",
              "31952  31953      0                @user you went too far with @user  \n",
              "31953  31954      0  good morning #instagram #shower #water #berlin...\n",
              "31954  31955      0  #holiday   bull up: you will dominate your bul...\n",
              "31955  31956      0  less than 2 weeks Ã°ÂÂÂ\n",
              "Ã°ÂÂÂÃ°ÂÂÂ¼Ã°Â...\n",
              "31956  31957      0  off fishing tomorrow @user carnt wait first ti...\n",
              "31957  31958      0  ate @user isz that youuu?Ã°ÂÂÂÃ°ÂÂÂÃ°ÂÂ...\n",
              "31958  31959      0    to see nina turner on the airwaves trying to...\n",
              "31959  31960      0  listening to sad songs on a monday morning otw...\n",
              "31960  31961      1  @user #sikh #temple vandalised in in #calgary,...\n",
              "31961  31962      0                   thank you @user for you follow  \n",
              "\n",
              "[31962 rows x 3 columns]"
            ],
            "text/html": [
              "<div>\n",
              "<style>\n",
              "    .dataframe thead tr:only-child th {\n",
              "        text-align: right;\n",
              "    }\n",
              "\n",
              "    .dataframe thead th {\n",
              "        text-align: left;\n",
              "    }\n",
              "\n",
              "    .dataframe tbody tr th {\n",
              "        vertical-align: top;\n",
              "    }\n",
              "</style>\n",
              "<table border=\"1\" class=\"dataframe\">\n",
              "  <thead>\n",
              "    <tr style=\"text-align: right;\">\n",
              "      <th></th>\n",
              "      <th>id</th>\n",
              "      <th>label</th>\n",
              "      <th>tweet</th>\n",
              "    </tr>\n",
              "  </thead>\n",
              "  <tbody>\n",
              "    <tr>\n",
              "      <th>0</th>\n",
              "      <td>1</td>\n",
              "      <td>0</td>\n",
              "      <td>@user when a father is dysfunctional and is s...</td>\n",
              "    </tr>\n",
              "    <tr>\n",
              "      <th>1</th>\n",
              "      <td>2</td>\n",
              "      <td>0</td>\n",
              "      <td>@user @user thanks for #lyft credit i can't us...</td>\n",
              "    </tr>\n",
              "    <tr>\n",
              "      <th>2</th>\n",
              "      <td>3</td>\n",
              "      <td>0</td>\n",
              "      <td>bihday your majesty</td>\n",
              "    </tr>\n",
              "    <tr>\n",
              "      <th>3</th>\n",
              "      <td>4</td>\n",
              "      <td>0</td>\n",
              "      <td>#model   i love u take with u all the time in ...</td>\n",
              "    </tr>\n",
              "    <tr>\n",
              "      <th>4</th>\n",
              "      <td>5</td>\n",
              "      <td>0</td>\n",
              "      <td>factsguide: society now    #motivation</td>\n",
              "    </tr>\n",
              "    <tr>\n",
              "      <th>5</th>\n",
              "      <td>6</td>\n",
              "      <td>0</td>\n",
              "      <td>[2/2] huge fan fare and big talking before the...</td>\n",
              "    </tr>\n",
              "    <tr>\n",
              "      <th>6</th>\n",
              "      <td>7</td>\n",
              "      <td>0</td>\n",
              "      <td>@user camping tomorrow @user @user @user @use...</td>\n",
              "    </tr>\n",
              "    <tr>\n",
              "      <th>7</th>\n",
              "      <td>8</td>\n",
              "      <td>0</td>\n",
              "      <td>the next school year is the year for exams.Ã°Â...</td>\n",
              "    </tr>\n",
              "    <tr>\n",
              "      <th>8</th>\n",
              "      <td>9</td>\n",
              "      <td>0</td>\n",
              "      <td>we won!!! love the land!!! #allin #cavs #champ...</td>\n",
              "    </tr>\n",
              "    <tr>\n",
              "      <th>9</th>\n",
              "      <td>10</td>\n",
              "      <td>0</td>\n",
              "      <td>@user @user welcome here !  i'm   it's so #gr...</td>\n",
              "    </tr>\n",
              "    <tr>\n",
              "      <th>10</th>\n",
              "      <td>11</td>\n",
              "      <td>0</td>\n",
              "      <td>Ã¢ÂÂ #ireland consumer price index (mom) cl...</td>\n",
              "    </tr>\n",
              "    <tr>\n",
              "      <th>11</th>\n",
              "      <td>12</td>\n",
              "      <td>0</td>\n",
              "      <td>we are so selfish. #orlando #standwithorlando ...</td>\n",
              "    </tr>\n",
              "    <tr>\n",
              "      <th>12</th>\n",
              "      <td>13</td>\n",
              "      <td>0</td>\n",
              "      <td>i get to see my daddy today!!   #80days #getti...</td>\n",
              "    </tr>\n",
              "    <tr>\n",
              "      <th>13</th>\n",
              "      <td>14</td>\n",
              "      <td>1</td>\n",
              "      <td>@user #cnn calls #michigan middle school 'buil...</td>\n",
              "    </tr>\n",
              "    <tr>\n",
              "      <th>14</th>\n",
              "      <td>15</td>\n",
              "      <td>1</td>\n",
              "      <td>no comment!  in #australia   #opkillingbay #se...</td>\n",
              "    </tr>\n",
              "    <tr>\n",
              "      <th>15</th>\n",
              "      <td>16</td>\n",
              "      <td>0</td>\n",
              "      <td>ouch...junior is angryÃ°ÂÂÂ#got7 #junior #y...</td>\n",
              "    </tr>\n",
              "    <tr>\n",
              "      <th>16</th>\n",
              "      <td>17</td>\n",
              "      <td>0</td>\n",
              "      <td>i am thankful for having a paner. #thankful #p...</td>\n",
              "    </tr>\n",
              "    <tr>\n",
              "      <th>17</th>\n",
              "      <td>18</td>\n",
              "      <td>1</td>\n",
              "      <td>retweet if you agree!</td>\n",
              "    </tr>\n",
              "    <tr>\n",
              "      <th>18</th>\n",
              "      <td>19</td>\n",
              "      <td>0</td>\n",
              "      <td>its #friday! Ã°ÂÂÂ smiles all around via ig...</td>\n",
              "    </tr>\n",
              "    <tr>\n",
              "      <th>19</th>\n",
              "      <td>20</td>\n",
              "      <td>0</td>\n",
              "      <td>as we all know, essential oils are not made of...</td>\n",
              "    </tr>\n",
              "    <tr>\n",
              "      <th>20</th>\n",
              "      <td>21</td>\n",
              "      <td>0</td>\n",
              "      <td>#euro2016 people blaming ha for conceded goal ...</td>\n",
              "    </tr>\n",
              "    <tr>\n",
              "      <th>21</th>\n",
              "      <td>22</td>\n",
              "      <td>0</td>\n",
              "      <td>sad little dude..   #badday #coneofshame #cats...</td>\n",
              "    </tr>\n",
              "    <tr>\n",
              "      <th>22</th>\n",
              "      <td>23</td>\n",
              "      <td>0</td>\n",
              "      <td>product of the day: happy man #wine tool  who'...</td>\n",
              "    </tr>\n",
              "    <tr>\n",
              "      <th>23</th>\n",
              "      <td>24</td>\n",
              "      <td>1</td>\n",
              "      <td>@user @user lumpy says i am a . prove it lumpy.</td>\n",
              "    </tr>\n",
              "    <tr>\n",
              "      <th>24</th>\n",
              "      <td>25</td>\n",
              "      <td>0</td>\n",
              "      <td>@user #tgif   #ff to my #gamedev #indiedev #i...</td>\n",
              "    </tr>\n",
              "    <tr>\n",
              "      <th>25</th>\n",
              "      <td>26</td>\n",
              "      <td>0</td>\n",
              "      <td>beautiful sign by vendor 80 for $45.00!! #upsi...</td>\n",
              "    </tr>\n",
              "    <tr>\n",
              "      <th>26</th>\n",
              "      <td>27</td>\n",
              "      <td>0</td>\n",
              "      <td>@user all #smiles when #media is   !! Ã°ÂÂÂ...</td>\n",
              "    </tr>\n",
              "    <tr>\n",
              "      <th>27</th>\n",
              "      <td>28</td>\n",
              "      <td>0</td>\n",
              "      <td>we had a great panel on the mediatization of t...</td>\n",
              "    </tr>\n",
              "    <tr>\n",
              "      <th>28</th>\n",
              "      <td>29</td>\n",
              "      <td>0</td>\n",
              "      <td>happy father's day @user Ã°ÂÂÂÃ°ÂÂÂÃ°ÂÂ...</td>\n",
              "    </tr>\n",
              "    <tr>\n",
              "      <th>29</th>\n",
              "      <td>30</td>\n",
              "      <td>0</td>\n",
              "      <td>50 people went to nightclub to have a good nig...</td>\n",
              "    </tr>\n",
              "    <tr>\n",
              "      <th>...</th>\n",
              "      <td>...</td>\n",
              "      <td>...</td>\n",
              "      <td>...</td>\n",
              "    </tr>\n",
              "    <tr>\n",
              "      <th>31932</th>\n",
              "      <td>31933</td>\n",
              "      <td>0</td>\n",
              "      <td>@user thanks gemma</td>\n",
              "    </tr>\n",
              "    <tr>\n",
              "      <th>31933</th>\n",
              "      <td>31934</td>\n",
              "      <td>1</td>\n",
              "      <td>@user judd is a  &amp;amp; #homophobic #freemilo #...</td>\n",
              "    </tr>\n",
              "    <tr>\n",
              "      <th>31934</th>\n",
              "      <td>31935</td>\n",
              "      <td>1</td>\n",
              "      <td>lady banned from kentucky mall. @user  #jcpenn...</td>\n",
              "    </tr>\n",
              "    <tr>\n",
              "      <th>31935</th>\n",
              "      <td>31936</td>\n",
              "      <td>0</td>\n",
              "      <td>ugh i'm trying to enjoy my happy hour drink &amp;a...</td>\n",
              "    </tr>\n",
              "    <tr>\n",
              "      <th>31936</th>\n",
              "      <td>31937</td>\n",
              "      <td>0</td>\n",
              "      <td>want to know how to live a   life? do more thi...</td>\n",
              "    </tr>\n",
              "    <tr>\n",
              "      <th>31937</th>\n",
              "      <td>31938</td>\n",
              "      <td>0</td>\n",
              "      <td>love island Ã°ÂÂÂ</td>\n",
              "    </tr>\n",
              "    <tr>\n",
              "      <th>31938</th>\n",
              "      <td>31939</td>\n",
              "      <td>0</td>\n",
              "      <td>my fav actor #vijaysethupathi ! my fav actress...</td>\n",
              "    </tr>\n",
              "    <tr>\n",
              "      <th>31939</th>\n",
              "      <td>31940</td>\n",
              "      <td>0</td>\n",
              "      <td>whew  Ã°ÂÂÂ it's a productive and   #friday!!!</td>\n",
              "    </tr>\n",
              "    <tr>\n",
              "      <th>31940</th>\n",
              "      <td>31941</td>\n",
              "      <td>0</td>\n",
              "      <td>@user she's finally here! @user</td>\n",
              "    </tr>\n",
              "    <tr>\n",
              "      <th>31941</th>\n",
              "      <td>31942</td>\n",
              "      <td>0</td>\n",
              "      <td>passed first year of uni #yay #love #pass #uni...</td>\n",
              "    </tr>\n",
              "    <tr>\n",
              "      <th>31942</th>\n",
              "      <td>31943</td>\n",
              "      <td>0</td>\n",
              "      <td>this week is flying by   #humpday - #wednesday...</td>\n",
              "    </tr>\n",
              "    <tr>\n",
              "      <th>31943</th>\n",
              "      <td>31944</td>\n",
              "      <td>0</td>\n",
              "      <td>@user modeling photoshoot this friday yay #mo...</td>\n",
              "    </tr>\n",
              "    <tr>\n",
              "      <th>31944</th>\n",
              "      <td>31945</td>\n",
              "      <td>0</td>\n",
              "      <td>you're surrounded by people who love you (even...</td>\n",
              "    </tr>\n",
              "    <tr>\n",
              "      <th>31945</th>\n",
              "      <td>31946</td>\n",
              "      <td>0</td>\n",
              "      <td>feel like... Ã°ÂÂÂÃ°ÂÂÂ¶Ã°ÂÂÂ #dog #su...</td>\n",
              "    </tr>\n",
              "    <tr>\n",
              "      <th>31946</th>\n",
              "      <td>31947</td>\n",
              "      <td>1</td>\n",
              "      <td>@user omfg i'm offended! i'm a  mailbox and i'...</td>\n",
              "    </tr>\n",
              "    <tr>\n",
              "      <th>31947</th>\n",
              "      <td>31948</td>\n",
              "      <td>1</td>\n",
              "      <td>@user @user you don't have the balls to hashta...</td>\n",
              "    </tr>\n",
              "    <tr>\n",
              "      <th>31948</th>\n",
              "      <td>31949</td>\n",
              "      <td>1</td>\n",
              "      <td>makes you ask yourself, who am i? then am i a...</td>\n",
              "    </tr>\n",
              "    <tr>\n",
              "      <th>31949</th>\n",
              "      <td>31950</td>\n",
              "      <td>0</td>\n",
              "      <td>hear one of my new songs! don't go - katie ell...</td>\n",
              "    </tr>\n",
              "    <tr>\n",
              "      <th>31950</th>\n",
              "      <td>31951</td>\n",
              "      <td>0</td>\n",
              "      <td>@user you can try to 'tail' us to stop, 'butt...</td>\n",
              "    </tr>\n",
              "    <tr>\n",
              "      <th>31951</th>\n",
              "      <td>31952</td>\n",
              "      <td>0</td>\n",
              "      <td>i've just posted a new blog: #secondlife #lone...</td>\n",
              "    </tr>\n",
              "    <tr>\n",
              "      <th>31952</th>\n",
              "      <td>31953</td>\n",
              "      <td>0</td>\n",
              "      <td>@user you went too far with @user</td>\n",
              "    </tr>\n",
              "    <tr>\n",
              "      <th>31953</th>\n",
              "      <td>31954</td>\n",
              "      <td>0</td>\n",
              "      <td>good morning #instagram #shower #water #berlin...</td>\n",
              "    </tr>\n",
              "    <tr>\n",
              "      <th>31954</th>\n",
              "      <td>31955</td>\n",
              "      <td>0</td>\n",
              "      <td>#holiday   bull up: you will dominate your bul...</td>\n",
              "    </tr>\n",
              "    <tr>\n",
              "      <th>31955</th>\n",
              "      <td>31956</td>\n",
              "      <td>0</td>\n",
              "      <td>less than 2 weeks Ã°ÂÂÂÃ°ÂÂÂÃ°ÂÂÂ¼Ã°Â...</td>\n",
              "    </tr>\n",
              "    <tr>\n",
              "      <th>31956</th>\n",
              "      <td>31957</td>\n",
              "      <td>0</td>\n",
              "      <td>off fishing tomorrow @user carnt wait first ti...</td>\n",
              "    </tr>\n",
              "    <tr>\n",
              "      <th>31957</th>\n",
              "      <td>31958</td>\n",
              "      <td>0</td>\n",
              "      <td>ate @user isz that youuu?Ã°ÂÂÂÃ°ÂÂÂÃ°ÂÂ...</td>\n",
              "    </tr>\n",
              "    <tr>\n",
              "      <th>31958</th>\n",
              "      <td>31959</td>\n",
              "      <td>0</td>\n",
              "      <td>to see nina turner on the airwaves trying to...</td>\n",
              "    </tr>\n",
              "    <tr>\n",
              "      <th>31959</th>\n",
              "      <td>31960</td>\n",
              "      <td>0</td>\n",
              "      <td>listening to sad songs on a monday morning otw...</td>\n",
              "    </tr>\n",
              "    <tr>\n",
              "      <th>31960</th>\n",
              "      <td>31961</td>\n",
              "      <td>1</td>\n",
              "      <td>@user #sikh #temple vandalised in in #calgary,...</td>\n",
              "    </tr>\n",
              "    <tr>\n",
              "      <th>31961</th>\n",
              "      <td>31962</td>\n",
              "      <td>0</td>\n",
              "      <td>thank you @user for you follow</td>\n",
              "    </tr>\n",
              "  </tbody>\n",
              "</table>\n",
              "<p>31962 rows × 3 columns</p>\n",
              "</div>"
            ]
          },
          "metadata": {
            "tags": []
          },
          "execution_count": 64
        }
      ]
    },
    {
      "cell_type": "markdown",
      "metadata": {
        "_uuid": "53083ccecf39523cff290495a6cc768061ba9b46",
        "id": "P_6-zEeZDWbE",
        "colab_type": "text"
      },
      "source": [
        "Drop the columns that are not required for the neural network."
      ]
    },
    {
      "cell_type": "code",
      "metadata": {
        "scrolled": true,
        "trusted": true,
        "_uuid": "95a8b5d6f19cf42d4f55c6d2842faf1d0d55c1d0",
        "id": "BxcVLWRmDWbI",
        "colab_type": "code",
        "colab": {},
        "outputId": "9df3ffd3-afb9-45da-92e9-9b4aa27bc6a6"
      },
      "source": [
        "df.drop(['id'],axis=1,inplace=True)\n",
        "df.info()"
      ],
      "execution_count": null,
      "outputs": [
        {
          "output_type": "stream",
          "text": [
            "<class 'pandas.core.frame.DataFrame'>\n",
            "RangeIndex: 31962 entries, 0 to 31961\n",
            "Data columns (total 2 columns):\n",
            "label    31962 non-null int64\n",
            "tweet    31962 non-null object\n",
            "dtypes: int64(1), object(1)\n",
            "memory usage: 499.5+ KB\n"
          ],
          "name": "stdout"
        }
      ]
    },
    {
      "cell_type": "markdown",
      "metadata": {
        "_uuid": "3c7060084470000f39a2dcc15b656586dcd6e9fd",
        "id": "bF2QO_d1DWbP",
        "colab_type": "text"
      },
      "source": [
        "Understand the distribution better."
      ]
    },
    {
      "cell_type": "code",
      "metadata": {
        "trusted": true,
        "_uuid": "a12002f521dd8eaeb0f69a932cbf23815ffd09d7",
        "id": "YhznZo29DWbQ",
        "colab_type": "code",
        "colab": {},
        "outputId": "8e89db1b-1cdb-46fb-af49-5e460a48d555"
      },
      "source": [
        "sns.countplot(df.label)\n",
        "plt.xlabel('Label')\n",
        "plt.title('Number of ham and spam messages')"
      ],
      "execution_count": null,
      "outputs": [
        {
          "output_type": "execute_result",
          "data": {
            "text/plain": [
              "Text(0.5,1,'Number of ham and spam messages')"
            ]
          },
          "metadata": {
            "tags": []
          },
          "execution_count": 66
        },
        {
          "output_type": "display_data",
          "data": {
            "text/plain": [
              "<matplotlib.figure.Figure at 0x7f2bf4b74518>"
            ],
            "image/png": "[encoded data removed]"
          },
          "metadata": {
            "tags": []
          }
        }
      ]
    },
    {
      "cell_type": "code",
      "metadata": {
        "trusted": true,
        "id": "iM5_03HFDWbW",
        "colab_type": "code",
        "colab": {},
        "outputId": "71efd4d6-82dd-4f4e-d95a-7fbc43e215db"
      },
      "source": [
        "def eval_fun(labels, preds):\n",
        "    labels = label.split(' ')\n",
        "    preds = tweet.split(' ')\n",
        "    rr = (np.intersect1d(label, tweet))\n",
        "    precision = np.float(len(rr)) / len(tweet)\n",
        "    recall = np.float(len(rr)) / len(label)\n",
        "    try:\n",
        "        f1 = 2 * precision * recall / (precision + recall)\n",
        "    except ZeroDivisionError:\n",
        "        return (precision, recall, 0.0)\n",
        "    return (precision, recall, f1)\n",
        "print(1)"
      ],
      "execution_count": null,
      "outputs": [
        {
          "output_type": "stream",
          "text": [
            "1\n"
          ],
          "name": "stdout"
        }
      ]
    },
    {
      "cell_type": "code",
      "metadata": {
        "trusted": true,
        "id": "OaH0PYPgDWbc",
        "colab_type": "code",
        "colab": {},
        "outputId": "f20451ca-39ba-482d-b594-aeecb3a6ee2c"
      },
      "source": [
        "import numpy as np\n",
        "print(\"Hatred labeled: {}\\nNon-hatred labeled: {}\".format(\n",
        "    (df.label == 1).sum(),\n",
        "    (df.label == 0).sum()\n",
        "))"
      ],
      "execution_count": null,
      "outputs": [
        {
          "output_type": "stream",
          "text": [
            "Hatred labeled: 2242\n",
            "Non-hatred labeled: 29720\n"
          ],
          "name": "stdout"
        }
      ]
    },
    {
      "cell_type": "markdown",
      "metadata": {
        "id": "qXKRFJ6nDWbj",
        "colab_type": "text"
      },
      "source": [
        " ## Extracting features"
      ]
    },
    {
      "cell_type": "markdown",
      "metadata": {
        "id": "UNuZiNLtDWbk",
        "colab_type": "text"
      },
      "source": [
        "Hashtags and mentions"
      ]
    },
    {
      "cell_type": "code",
      "metadata": {
        "trusted": true,
        "id": "2tghEZk3DWbl",
        "colab_type": "code",
        "colab": {}
      },
      "source": [
        "hashtags = df['tweet'].str.extractall('#(?P<hashtag>[a-zA-Z0-9_]+)').reset_index().groupby('level_0').agg(lambda x: ' '.join(x.values))\n",
        "df.loc[:, 'hashtags'] = hashtags['hashtag']\n",
        "df['hashtags'].fillna('', inplace=True)\n",
        "\n",
        "df.loc[:, 'mentions'] = df['tweet'].str.count('@[a-zA-Z0-9_]+')\n",
        "\n",
        "df.tweet = df.tweet.str.replace('@[a-zA-Z0-9_]+', '')"
      ],
      "execution_count": null,
      "outputs": []
    },
    {
      "cell_type": "markdown",
      "metadata": {
        "id": "MEgaoHMMDWbq",
        "colab_type": "text"
      },
      "source": [
        "Removing anything but the words"
      ]
    },
    {
      "cell_type": "code",
      "metadata": {
        "trusted": true,
        "id": "V1ilCtqNDWbr",
        "colab_type": "code",
        "colab": {}
      },
      "source": [
        "df.tweet = df.tweet.str.replace('[^a-zA-Z]', ' ')"
      ],
      "execution_count": null,
      "outputs": []
    },
    {
      "cell_type": "markdown",
      "metadata": {
        "id": "SyivkRxyDWbw",
        "colab_type": "text"
      },
      "source": [
        "Lemmatization\n",
        "\n",
        "We lemmatize tweets' words as we have the sentences and we can tag part of speeches, and will stem hashtags."
      ]
    },
    {
      "cell_type": "code",
      "metadata": {
        "trusted": true,
        "id": "z6OEIavEDWbx",
        "colab_type": "code",
        "colab": {}
      },
      "source": [
        "from nltk.stem.snowball import SnowballStemmer\n",
        "from nltk.stem import WordNetLemmatizer\n",
        "from nltk.corpus import wordnet\n",
        "from nltk import pos_tag, FreqDist, word_tokenize\n",
        "\n",
        "stemmer = SnowballStemmer('english')\n",
        "lemmer = WordNetLemmatizer()\n",
        "\n",
        "part = {\n",
        "    'N' : 'n',\n",
        "    'V' : 'v',\n",
        "    'J' : 'a',\n",
        "    'S' : 's',\n",
        "    'R' : 'r'\n",
        "}\n",
        "\n",
        "def convert_tag(penn_tag):\n",
        "    if penn_tag in part.keys():\n",
        "        return part[penn_tag]\n",
        "    else:\n",
        "        return 'n'\n",
        "\n",
        "\n",
        "def tag_and_lem(element):\n",
        "    sent = pos_tag(word_tokenize(element))\n",
        "    return ' '.join([lemmer.lemmatize(sent[k][0], convert_tag(sent[k][1][0]))\n",
        "                    for k in range(len(sent))])\n",
        "    \n",
        "\n",
        "df.loc[:, 'tweet'] = df['tweet'].apply(lambda x: tag_and_lem(x))\n",
        "df.loc[:, 'hashtags'] = df['hashtags'].apply(lambda x: ' '.join([stemmer.stem(word) for word in x.split()]))"
      ],
      "execution_count": null,
      "outputs": []
    },
    {
      "cell_type": "code",
      "metadata": {
        "trusted": true,
        "id": "KqaVWNvDDWb4",
        "colab_type": "code",
        "colab": {}
      },
      "source": [
        ""
      ],
      "execution_count": null,
      "outputs": []
    },
    {
      "cell_type": "markdown",
      "metadata": {
        "_uuid": "353a8191f86c3a22843a729b5d4a5acefbf94be8",
        "id": "uwtj2gjBDWcE",
        "colab_type": "text"
      },
      "source": [
        "* Create input and output vectors.\n",
        "* Process the labels."
      ]
    },
    {
      "cell_type": "code",
      "metadata": {
        "trusted": true,
        "_uuid": "a1a345c1683e2fcc7173ecae867a5da87f2dde24",
        "id": "EYU3fM3KDWcF",
        "colab_type": "code",
        "colab": {}
      },
      "source": [
        "X = df.tweet\n",
        "Y = df.label\n",
        "le = LabelEncoder()\n",
        "Y = le.fit_transform(Y)\n",
        "Y = Y.reshape(-1,1)"
      ],
      "execution_count": null,
      "outputs": []
    },
    {
      "cell_type": "markdown",
      "metadata": {
        "_uuid": "150e244a39b814d8a41bbe0e419bc5f28e457dd6",
        "id": "Pp8rEk4WDWcP",
        "colab_type": "text"
      },
      "source": [
        "Split into training and test data."
      ]
    },
    {
      "cell_type": "code",
      "metadata": {
        "scrolled": true,
        "trusted": true,
        "_uuid": "aa3386af09469682c66cc53a1830a4e42f0e70b6",
        "id": "B5MasDLUDWcQ",
        "colab_type": "code",
        "colab": {}
      },
      "source": [
        "X_train,X_test,Y_train,Y_test = train_test_split(X,Y,test_size=0.30)"
      ],
      "execution_count": null,
      "outputs": []
    },
    {
      "cell_type": "markdown",
      "metadata": {
        "_uuid": "c5378d55c271e01480c1ac07f94ff99a80f900d6",
        "id": "Nl3gmozrDWcW",
        "colab_type": "text"
      },
      "source": [
        "### Process the data\n",
        "* Tokenize the data and convert the text to sequences.\n",
        "* Add padding to ensure that all the sequences have the same shape.\n",
        "* There are many ways of taking the *max_len* and here an arbitrary length of 150 is chosen."
      ]
    },
    {
      "cell_type": "code",
      "metadata": {
        "trusted": true,
        "_uuid": "bdca14f2b8cd7bd7cb5ee66fd40ea522217c03c6",
        "id": "UT7i4rmZDWcX",
        "colab_type": "code",
        "colab": {}
      },
      "source": [
        "max_words = 1000\n",
        "max_len = 100\n",
        "tok = Tokenizer(num_words=max_words)\n",
        "tok.fit_on_texts(X_train)\n",
        "sequences = tok.texts_to_sequences(X_train)\n",
        "sequences_matrix = sequence.pad_sequences(sequences,maxlen=max_len)"
      ],
      "execution_count": null,
      "outputs": []
    },
    {
      "cell_type": "markdown",
      "metadata": {
        "_uuid": "ad8706caa7a447fb49b44919fd109129e4082a93",
        "id": "XpPU4tjQDWcd",
        "colab_type": "text"
      },
      "source": [
        "### RNN\n",
        "Define the RNN structure."
      ]
    },
    {
      "cell_type": "code",
      "metadata": {
        "trusted": true,
        "_uuid": "78fff25b8be1de575bff071a2027f3dd2b11b911",
        "id": "HmOfa2ooDWcf",
        "colab_type": "code",
        "colab": {}
      },
      "source": [
        "def RNN():\n",
        "    inputs = Input(name='inputs',shape=[max_len])\n",
        "    layer = Embedding(max_words,50,input_length=max_len)(inputs)\n",
        "    layer = LSTM(64)(layer)\n",
        "    layer = Dense(64,name='FC1')(layer)\n",
        "    layer = Activation('relu')(layer)\n",
        "    layer = Dropout(0.5)(layer)\n",
        "    layer = Dense(1,name='out_layer')(layer)\n",
        "    layer = Activation('sigmoid')(layer)\n",
        "    model = Model(inputs=inputs,outputs=layer)\n",
        "    return model"
      ],
      "execution_count": null,
      "outputs": []
    },
    {
      "cell_type": "markdown",
      "metadata": {
        "_uuid": "9d7c489e32bff6d12b8c08c07a91e9ba5d302e0e",
        "id": "Gr_wguRdDWck",
        "colab_type": "text"
      },
      "source": [
        "Call the function and compile the model."
      ]
    },
    {
      "cell_type": "code",
      "metadata": {
        "trusted": true,
        "_uuid": "a0ede32d4127e8b4990fd74fe97fadef9e565d17",
        "id": "bF5uT4ojDWcl",
        "colab_type": "code",
        "colab": {},
        "outputId": "2bf6f498-66f3-4c40-c007-9ca563f73ff5"
      },
      "source": [
        "model = RNN()\n",
        "model.summary()\n",
        "model.compile(loss='binary_crossentropy',optimizer=RMSprop(),metrics=['accuracy'])"
      ],
      "execution_count": null,
      "outputs": [
        {
          "output_type": "stream",
          "text": [
            "_________________________________________________________________\n",
            "Layer (type)                 Output Shape              Param #   \n",
            "=================================================================\n",
            "inputs (InputLayer)          (None, 100)               0         \n",
            "_________________________________________________________________\n",
            "embedding_4 (Embedding)      (None, 100, 50)           50000     \n",
            "_________________________________________________________________\n",
            "lstm_4 (LSTM)                (None, 64)                29440     \n",
            "_________________________________________________________________\n",
            "FC1 (Dense)                  (None, 64)                4160      \n",
            "_________________________________________________________________\n",
            "activation_7 (Activation)    (None, 64)                0         \n",
            "_________________________________________________________________\n",
            "dropout_4 (Dropout)          (None, 64)                0         \n",
            "_________________________________________________________________\n",
            "out_layer (Dense)            (None, 1)                 65        \n",
            "_________________________________________________________________\n",
            "activation_8 (Activation)    (None, 1)                 0         \n",
            "=================================================================\n",
            "Total params: 83,665\n",
            "Trainable params: 83,665\n",
            "Non-trainable params: 0\n",
            "_________________________________________________________________\n"
          ],
          "name": "stdout"
        }
      ]
    },
    {
      "cell_type": "markdown",
      "metadata": {
        "_uuid": "bc2e0a3ec50d14c790b82d66f9255456ec6a69da",
        "id": "KCOmjR0XDWcs",
        "colab_type": "text"
      },
      "source": [
        "Fit on the training data."
      ]
    },
    {
      "cell_type": "code",
      "metadata": {
        "trusted": true,
        "id": "nlcue62UDWct",
        "colab_type": "code",
        "colab": {}
      },
      "source": [
        "#history = model.fit(sequences_matrix,Y_train,batch_size=64,epochs=10,\n",
        "#          validation_split=0.2)"
      ],
      "execution_count": null,
      "outputs": []
    },
    {
      "cell_type": "code",
      "metadata": {
        "trusted": true,
        "_uuid": "98f6d6318352420ea49c532cda158f715f940f4b",
        "id": "YLiWK4EWDWcz",
        "colab_type": "code",
        "colab": {},
        "outputId": "edb99c8d-4576-4c70-e75d-b271450792f8"
      },
      "source": [
        "history = model.fit(sequences_matrix,Y_train,batch_size=64,epochs=10,\n",
        "          validation_split=0.2,callbacks=[EarlyStopping(monitor='val_loss',min_delta=0.0001)])"
      ],
      "execution_count": null,
      "outputs": [
        {
          "output_type": "stream",
          "text": [
            "Train on 17898 samples, validate on 4475 samples\n",
            "Epoch 1/10\n",
            "17898/17898 [==============================] - 37s 2ms/step - loss: 0.1345 - acc: 0.9518 - val_loss: 0.1662 - val_acc: 0.9477\n",
            "Epoch 2/10\n",
            "17898/17898 [==============================] - 42s 2ms/step - loss: 0.1303 - acc: 0.9522 - val_loss: 0.1628 - val_acc: 0.9473\n",
            "Epoch 3/10\n",
            "17898/17898 [==============================] - 37s 2ms/step - loss: 0.1260 - acc: 0.9547 - val_loss: 0.1620 - val_acc: 0.9491\n"
          ],
          "name": "stdout"
        }
      ]
    },
    {
      "cell_type": "markdown",
      "metadata": {
        "_uuid": "448ab38c2f804e47df48eb45385393aaec168032",
        "id": "9kw2XBtpDWc3",
        "colab_type": "text"
      },
      "source": [
        "The model performs well on the validation set and this configuration is chosen as the final model."
      ]
    },
    {
      "cell_type": "markdown",
      "metadata": {
        "_uuid": "ccca7839445a7d663ee7bc425a16e247df3e0e5b",
        "id": "ukFPiizPDWc4",
        "colab_type": "text"
      },
      "source": [
        "Process the test set data."
      ]
    },
    {
      "cell_type": "code",
      "metadata": {
        "trusted": true,
        "_uuid": "80036135a11387d952becaf2fecf653a65c02328",
        "id": "CshyPJiKDWc5",
        "colab_type": "code",
        "colab": {}
      },
      "source": [
        "test_sequences = tok.texts_to_sequences(X_test)\n",
        "test_sequences_matrix = sequence.pad_sequences(test_sequences,maxlen=max_len)"
      ],
      "execution_count": null,
      "outputs": []
    },
    {
      "cell_type": "markdown",
      "metadata": {
        "_uuid": "0b60d7d2bcc0aabf77c8c8766c59f8d73cd34547",
        "id": "XIMIc8BtDWc_",
        "colab_type": "text"
      },
      "source": [
        "Evaluate the model on the test set."
      ]
    },
    {
      "cell_type": "code",
      "metadata": {
        "trusted": true,
        "_uuid": "0db183049b59d96388812a98efedfc865b7cc141",
        "id": "Ue_wZlLHDWdA",
        "colab_type": "code",
        "colab": {},
        "outputId": "9045b86f-bd03-4fd1-a72a-01c83347730b"
      },
      "source": [
        "accr = model.evaluate(test_sequences_matrix,Y_test)"
      ],
      "execution_count": null,
      "outputs": [
        {
          "output_type": "stream",
          "text": [
            "9589/9589 [==============================] - 5s 508us/step\n"
          ],
          "name": "stdout"
        }
      ]
    },
    {
      "cell_type": "code",
      "metadata": {
        "trusted": true,
        "scrolled": true,
        "_uuid": "3e121ab83f4a0b9f7376ab24aa25d67051171f89",
        "id": "iH7UKu2-DWdG",
        "colab_type": "code",
        "colab": {},
        "outputId": "b846dc99-eac5-418c-9b90-da6d855ab0ec"
      },
      "source": [
        "print('Test set\\n  Loss: {:0.3f}\\n  Accuracy: {:0.3f}'.format(accr[0],accr[1]))"
      ],
      "execution_count": null,
      "outputs": [
        {
          "output_type": "stream",
          "text": [
            "Test set\n",
            "  Loss: 0.153\n",
            "  Accuracy: 0.949\n"
          ],
          "name": "stdout"
        }
      ]
    },
    {
      "cell_type": "code",
      "metadata": {
        "trusted": true,
        "id": "K-pMFFCsDWdN",
        "colab_type": "code",
        "colab": {},
        "outputId": "092f64d4-7b18-45f9-b0b9-997face383c8"
      },
      "source": [
        "import matplotlib.pyplot as plt\n",
        "acc = history.history['acc']\n",
        "val_acc = history.history['val_acc']\n",
        "loss = history.history['loss']\n",
        "val_loss = history.history['val_loss']\n",
        "epochs = range(1, len(acc) + 1)\n",
        "plt.plot(epochs, acc, 'bo', label='Training acc')\n",
        "plt.plot(epochs, val_acc, 'b', label='Validation acc')\n",
        "plt.title('Training and validation accuracy')\n",
        "plt.legend()\n",
        "plt.figure()\n",
        "plt.plot(epochs, loss, 'bo', label='Training loss')\n",
        "plt.plot(epochs, val_loss, 'b', label='Validation loss')\n",
        "plt.title('Training and validation loss')\n",
        "plt.legend()\n",
        "plt.show()"
      ],
      "execution_count": null,
      "outputs": [
        {
          "output_type": "display_data",
          "data": {
            "text/plain": [
              "<matplotlib.figure.Figure at 0x7f2bf43bd8d0>"
            ],
            "image/png": "[encoded data removed]"
          },
          "metadata": {
            "tags": []
          }
        },
        {
          "output_type": "display_data",
          "data": {
            "text/plain": [
              "<matplotlib.figure.Figure at 0x7f2bf4384ef0>"
            ],
            "image/png": "[encoded data removed]"
          },
          "metadata": {
            "tags": []
          }
        }
      ]
    }
  ]
}