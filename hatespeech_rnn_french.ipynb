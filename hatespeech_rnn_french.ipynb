{
  "nbformat": 4,
  "nbformat_minor": 0,
  "metadata": {
    "kernelspec": {
      "display_name": "Python 3",
      "language": "python",
      "name": "python3"
    },
    "language_info": {
      "codemirror_mode": {
        "name": "ipython",
        "version": 3
      },
      "file_extension": ".py",
      "mimetype": "text/x-python",
      "name": "python",
      "nbconvert_exporter": "python",
      "pygments_lexer": "ipython3",
      "version": "3.7.6"
    },
    "papermill": {
      "duration": 8905.106798,
      "end_time": "2020-09-16T03:24:10.198083",
      "environment_variables": {},
      "exception": null,
      "input_path": "__notebook__.ipynb",
      "output_path": "__notebook__.ipynb",
      "parameters": {},
      "start_time": "2020-09-16T00:55:45.091285",
      "version": "2.1.0"
    },
    "colab": {
      "name": "hatespeech-rnn-french.ipynb",
      "provenance": [],
      "include_colab_link": true
    }
  },
  "cells": [
    {
      "cell_type": "markdown",
      "metadata": {
        "id": "view-in-github",
        "colab_type": "text"
      },
      "source": [
        "<a href=\"https://colab.research.google.com/github/Mahdi-0599/NLP-HATESPEECH/blob/master/hatespeech_rnn_french.ipynb\" target=\"_parent\"><img src=\"https://colab.research.google.com/assets/colab-badge.svg\" alt=\"Open In Colab\"/></a>"
      ]
    },
    {
      "cell_type": "code",
      "metadata": {
        "_cell_guid": "b1076dfc-b9ad-4769-8c92-a6c4dae69d19",
        "_uuid": "8f2839f25d086af736a60e9eeb907d3b93b6e0e5",
        "execution": {
          "iopub.execute_input": "2020-09-16T00:55:49.936899Z",
          "iopub.status.busy": "2020-09-16T00:55:49.936079Z",
          "iopub.status.idle": "2020-09-16T00:55:49.943536Z",
          "shell.execute_reply": "2020-09-16T00:55:49.942657Z"
        },
        "papermill": {
          "duration": 0.029495,
          "end_time": "2020-09-16T00:55:49.943709",
          "exception": false,
          "start_time": "2020-09-16T00:55:49.914214",
          "status": "completed"
        },
        "tags": [],
        "id": "ikikuHyn3gfB",
        "colab_type": "code",
        "colab": {},
        "outputId": "133d0951-2b0f-4696-9ad3-cbae2f4a04d2"
      },
      "source": [
        "# This Python 3 environment comes with many helpful analytics libraries installed\n",
        "# It is defined by the kaggle/python Docker image: https://github.com/kaggle/docker-python\n",
        "# For example, here's several helpful packages to load\n",
        "\n",
        "import numpy as np # linear algebra\n",
        "import pandas as pd # data processing, CSV file I/O (e.g. pd.read_csv)\n",
        "\n",
        "# Input data files are available in the read-only \"../input/\" directory\n",
        "# For example, running this (by clicking run or pressing Shift+Enter) will list all files under the input directory\n",
        "\n",
        "import os\n",
        "for dirname, _, filenames in os.walk('/kaggle/input'):\n",
        "    for filename in filenames:\n",
        "        print(os.path.join(dirname, filename))\n",
        "\n",
        "# You can write up to 5GB to the current directory (/kaggle/working/) that gets preserved as output when you create a version using \"Save & Run All\" \n",
        "# You can also write temporary files to /kaggle/temp/, but they won't be saved outside of the current session"
      ],
      "execution_count": null,
      "outputs": [
        {
          "output_type": "stream",
          "text": [
            "/kaggle/input/french-tweets/french_tweets.csv\n"
          ],
          "name": "stdout"
        }
      ]
    },
    {
      "cell_type": "code",
      "metadata": {
        "_cell_guid": "79c7e3d0-c299-4dcb-8224-4455121ee9b0",
        "_uuid": "d629ff2d2480ee46fbb7e2d37f6b5fab8052498a",
        "execution": {
          "iopub.execute_input": "2020-09-16T00:55:49.985860Z",
          "iopub.status.busy": "2020-09-16T00:55:49.985125Z",
          "iopub.status.idle": "2020-09-16T00:55:57.289076Z",
          "shell.execute_reply": "2020-09-16T00:55:57.287982Z"
        },
        "papermill": {
          "duration": 7.329496,
          "end_time": "2020-09-16T00:55:57.289206",
          "exception": false,
          "start_time": "2020-09-16T00:55:49.959710",
          "status": "completed"
        },
        "tags": [],
        "id": "I9YjTNed3gfV",
        "colab_type": "code",
        "colab": {}
      },
      "source": [
        "import pandas as pd\n",
        "import numpy as np\n",
        "import matplotlib.pyplot as plt\n",
        "import seaborn as sns\n",
        "from sklearn.model_selection import train_test_split\n",
        "from sklearn.preprocessing import LabelEncoder\n",
        "from keras.models import Model\n",
        "from keras.layers import LSTM, Activation, Dense, Dropout, Input, Embedding\n",
        "from keras.optimizers import RMSprop\n",
        "from keras.preprocessing.text import Tokenizer\n",
        "from keras.preprocessing import sequence\n",
        "from keras.utils import to_categorical\n",
        "from keras.callbacks import EarlyStopping\n",
        "%matplotlib inline"
      ],
      "execution_count": null,
      "outputs": []
    },
    {
      "cell_type": "code",
      "metadata": {
        "execution": {
          "iopub.execute_input": "2020-09-16T00:55:57.323154Z",
          "iopub.status.busy": "2020-09-16T00:55:57.322384Z",
          "iopub.status.idle": "2020-09-16T00:56:00.360914Z",
          "shell.execute_reply": "2020-09-16T00:56:00.360147Z"
        },
        "papermill": {
          "duration": 3.057483,
          "end_time": "2020-09-16T00:56:00.361051",
          "exception": false,
          "start_time": "2020-09-16T00:55:57.303568",
          "status": "completed"
        },
        "tags": [],
        "id": "m4zdRi6l3gfh",
        "colab_type": "code",
        "colab": {},
        "outputId": "61002573-295c-4352-a917-db8a1a979fe2"
      },
      "source": [
        "df = pd.read_csv('../input/french-tweets/french_tweets.csv',delimiter=',',encoding='latin-1')\n",
        "df"
      ],
      "execution_count": null,
      "outputs": [
        {
          "output_type": "execute_result",
          "data": {
            "text/html": [
              "<div>\n",
              "<style scoped>\n",
              "    .dataframe tbody tr th:only-of-type {\n",
              "        vertical-align: middle;\n",
              "    }\n",
              "\n",
              "    .dataframe tbody tr th {\n",
              "        vertical-align: top;\n",
              "    }\n",
              "\n",
              "    .dataframe thead th {\n",
              "        text-align: right;\n",
              "    }\n",
              "</style>\n",
              "<table border=\"1\" class=\"dataframe\">\n",
              "  <thead>\n",
              "    <tr style=\"text-align: right;\">\n",
              "      <th></th>\n",
              "      <th>label</th>\n",
              "      <th>text</th>\n",
              "    </tr>\n",
              "  </thead>\n",
              "  <tbody>\n",
              "    <tr>\n",
              "      <th>0</th>\n",
              "      <td>0</td>\n",
              "      <td>- Awww, c'est un bummer. Tu devrais avoir davi...</td>\n",
              "    </tr>\n",
              "    <tr>\n",
              "      <th>1</th>\n",
              "      <td>0</td>\n",
              "      <td>Est contrariÃ© qu'il ne puisse pas mettre Ã  j...</td>\n",
              "    </tr>\n",
              "    <tr>\n",
              "      <th>2</th>\n",
              "      <td>0</td>\n",
              "      <td>J'ai plongÃ© plusieurs fois pour la balle. A r...</td>\n",
              "    </tr>\n",
              "    <tr>\n",
              "      <th>3</th>\n",
              "      <td>0</td>\n",
              "      <td>Tout mon corps a des dÃ©mangeaisons et comme s...</td>\n",
              "    </tr>\n",
              "    <tr>\n",
              "      <th>4</th>\n",
              "      <td>0</td>\n",
              "      <td>Non, il ne se comporte pas du tout. je suis en...</td>\n",
              "    </tr>\n",
              "    <tr>\n",
              "      <th>...</th>\n",
              "      <td>...</td>\n",
              "      <td>...</td>\n",
              "    </tr>\n",
              "    <tr>\n",
              "      <th>1526719</th>\n",
              "      <td>1</td>\n",
              "      <td>Oui, cela fonctionne mieux que de l'attendre Ã...</td>\n",
              "    </tr>\n",
              "    <tr>\n",
              "      <th>1526720</th>\n",
              "      <td>1</td>\n",
              "      <td>Je viens de me rÃ©veiller. Ne pas avoir d'Ã©co...</td>\n",
              "    </tr>\n",
              "    <tr>\n",
              "      <th>1526721</th>\n",
              "      <td>1</td>\n",
              "      <td>Thewdb.com - trÃ¨s cool d'entendre les vieille...</td>\n",
              "    </tr>\n",
              "    <tr>\n",
              "      <th>1526722</th>\n",
              "      <td>1</td>\n",
              "      <td>Ãtes-vous prÃªt pour votre mojo makeover? Dem...</td>\n",
              "    </tr>\n",
              "    <tr>\n",
              "      <th>1526723</th>\n",
              "      <td>1</td>\n",
              "      <td>Joyeux 38Ã¨me anniversaire Ã  mon livre de tou...</td>\n",
              "    </tr>\n",
              "  </tbody>\n",
              "</table>\n",
              "<p>1526724 rows × 2 columns</p>\n",
              "</div>"
            ],
            "text/plain": [
              "         label                                               text\n",
              "0            0  - Awww, c'est un bummer. Tu devrais avoir davi...\n",
              "1            0  Est contrariÃ© qu'il ne puisse pas mettre Ã  j...\n",
              "2            0  J'ai plongÃ© plusieurs fois pour la balle. A r...\n",
              "3            0  Tout mon corps a des dÃ©mangeaisons et comme s...\n",
              "4            0  Non, il ne se comporte pas du tout. je suis en...\n",
              "...        ...                                                ...\n",
              "1526719      1  Oui, cela fonctionne mieux que de l'attendre Ã...\n",
              "1526720      1  Je viens de me rÃ©veiller. Ne pas avoir d'Ã©co...\n",
              "1526721      1  Thewdb.com - trÃ¨s cool d'entendre les vieille...\n",
              "1526722      1  Ãtes-vous prÃªt pour votre mojo makeover? Dem...\n",
              "1526723      1  Joyeux 38Ã¨me anniversaire Ã  mon livre de tou...\n",
              "\n",
              "[1526724 rows x 2 columns]"
            ]
          },
          "metadata": {
            "tags": []
          },
          "execution_count": 3
        }
      ]
    },
    {
      "cell_type": "code",
      "metadata": {
        "execution": {
          "iopub.execute_input": "2020-09-16T00:56:00.404255Z",
          "iopub.status.busy": "2020-09-16T00:56:00.403289Z",
          "iopub.status.idle": "2020-09-16T00:56:00.408784Z",
          "shell.execute_reply": "2020-09-16T00:56:00.408178Z"
        },
        "papermill": {
          "duration": 0.032901,
          "end_time": "2020-09-16T00:56:00.408900",
          "exception": false,
          "start_time": "2020-09-16T00:56:00.375999",
          "status": "completed"
        },
        "tags": [],
        "id": "As6LnDT-3gfv",
        "colab_type": "code",
        "colab": {},
        "outputId": "883320f0-b71b-45cd-a077-dd0ef24f362b"
      },
      "source": [
        "df.columns=['label','tweet']\n",
        "df"
      ],
      "execution_count": null,
      "outputs": [
        {
          "output_type": "execute_result",
          "data": {
            "text/html": [
              "<div>\n",
              "<style scoped>\n",
              "    .dataframe tbody tr th:only-of-type {\n",
              "        vertical-align: middle;\n",
              "    }\n",
              "\n",
              "    .dataframe tbody tr th {\n",
              "        vertical-align: top;\n",
              "    }\n",
              "\n",
              "    .dataframe thead th {\n",
              "        text-align: right;\n",
              "    }\n",
              "</style>\n",
              "<table border=\"1\" class=\"dataframe\">\n",
              "  <thead>\n",
              "    <tr style=\"text-align: right;\">\n",
              "      <th></th>\n",
              "      <th>label</th>\n",
              "      <th>tweet</th>\n",
              "    </tr>\n",
              "  </thead>\n",
              "  <tbody>\n",
              "    <tr>\n",
              "      <th>0</th>\n",
              "      <td>0</td>\n",
              "      <td>- Awww, c'est un bummer. Tu devrais avoir davi...</td>\n",
              "    </tr>\n",
              "    <tr>\n",
              "      <th>1</th>\n",
              "      <td>0</td>\n",
              "      <td>Est contrariÃ© qu'il ne puisse pas mettre Ã  j...</td>\n",
              "    </tr>\n",
              "    <tr>\n",
              "      <th>2</th>\n",
              "      <td>0</td>\n",
              "      <td>J'ai plongÃ© plusieurs fois pour la balle. A r...</td>\n",
              "    </tr>\n",
              "    <tr>\n",
              "      <th>3</th>\n",
              "      <td>0</td>\n",
              "      <td>Tout mon corps a des dÃ©mangeaisons et comme s...</td>\n",
              "    </tr>\n",
              "    <tr>\n",
              "      <th>4</th>\n",
              "      <td>0</td>\n",
              "      <td>Non, il ne se comporte pas du tout. je suis en...</td>\n",
              "    </tr>\n",
              "    <tr>\n",
              "      <th>...</th>\n",
              "      <td>...</td>\n",
              "      <td>...</td>\n",
              "    </tr>\n",
              "    <tr>\n",
              "      <th>1526719</th>\n",
              "      <td>1</td>\n",
              "      <td>Oui, cela fonctionne mieux que de l'attendre Ã...</td>\n",
              "    </tr>\n",
              "    <tr>\n",
              "      <th>1526720</th>\n",
              "      <td>1</td>\n",
              "      <td>Je viens de me rÃ©veiller. Ne pas avoir d'Ã©co...</td>\n",
              "    </tr>\n",
              "    <tr>\n",
              "      <th>1526721</th>\n",
              "      <td>1</td>\n",
              "      <td>Thewdb.com - trÃ¨s cool d'entendre les vieille...</td>\n",
              "    </tr>\n",
              "    <tr>\n",
              "      <th>1526722</th>\n",
              "      <td>1</td>\n",
              "      <td>Ãtes-vous prÃªt pour votre mojo makeover? Dem...</td>\n",
              "    </tr>\n",
              "    <tr>\n",
              "      <th>1526723</th>\n",
              "      <td>1</td>\n",
              "      <td>Joyeux 38Ã¨me anniversaire Ã  mon livre de tou...</td>\n",
              "    </tr>\n",
              "  </tbody>\n",
              "</table>\n",
              "<p>1526724 rows × 2 columns</p>\n",
              "</div>"
            ],
            "text/plain": [
              "         label                                              tweet\n",
              "0            0  - Awww, c'est un bummer. Tu devrais avoir davi...\n",
              "1            0  Est contrariÃ© qu'il ne puisse pas mettre Ã  j...\n",
              "2            0  J'ai plongÃ© plusieurs fois pour la balle. A r...\n",
              "3            0  Tout mon corps a des dÃ©mangeaisons et comme s...\n",
              "4            0  Non, il ne se comporte pas du tout. je suis en...\n",
              "...        ...                                                ...\n",
              "1526719      1  Oui, cela fonctionne mieux que de l'attendre Ã...\n",
              "1526720      1  Je viens de me rÃ©veiller. Ne pas avoir d'Ã©co...\n",
              "1526721      1  Thewdb.com - trÃ¨s cool d'entendre les vieille...\n",
              "1526722      1  Ãtes-vous prÃªt pour votre mojo makeover? Dem...\n",
              "1526723      1  Joyeux 38Ã¨me anniversaire Ã  mon livre de tou...\n",
              "\n",
              "[1526724 rows x 2 columns]"
            ]
          },
          "metadata": {
            "tags": []
          },
          "execution_count": 4
        }
      ]
    },
    {
      "cell_type": "code",
      "metadata": {
        "execution": {
          "iopub.execute_input": "2020-09-16T00:56:00.449546Z",
          "iopub.status.busy": "2020-09-16T00:56:00.448848Z",
          "iopub.status.idle": "2020-09-16T00:56:00.706469Z",
          "shell.execute_reply": "2020-09-16T00:56:00.707042Z"
        },
        "papermill": {
          "duration": 0.282627,
          "end_time": "2020-09-16T00:56:00.707193",
          "exception": false,
          "start_time": "2020-09-16T00:56:00.424566",
          "status": "completed"
        },
        "tags": [],
        "id": "vIhOqser3gf7",
        "colab_type": "code",
        "colab": {},
        "outputId": "a3605b79-794b-4a7a-f11e-32b96b808101"
      },
      "source": [
        "sns.countplot(df.label)\n",
        "plt.xlabel('Label')\n",
        "plt.title('Number of ham and spam messages')"
      ],
      "execution_count": null,
      "outputs": [
        {
          "output_type": "execute_result",
          "data": {
            "text/plain": [
              "Text(0.5, 1.0, 'Number of ham and spam messages')"
            ]
          },
          "metadata": {
            "tags": []
          },
          "execution_count": 5
        },
        {
          "output_type": "display_data",
          "data": {
            "image/png": "[encoded data removed]",
            "text/plain": [
              "<Figure size 432x288 with 1 Axes>"
            ]
          },
          "metadata": {
            "tags": [],
            "needs_background": "light"
          }
        }
      ]
    },
    {
      "cell_type": "code",
      "metadata": {
        "execution": {
          "iopub.execute_input": "2020-09-16T00:56:00.752129Z",
          "iopub.status.busy": "2020-09-16T00:56:00.751278Z",
          "iopub.status.idle": "2020-09-16T00:56:00.754156Z",
          "shell.execute_reply": "2020-09-16T00:56:00.754685Z"
        },
        "papermill": {
          "duration": 0.03073,
          "end_time": "2020-09-16T00:56:00.754826",
          "exception": false,
          "start_time": "2020-09-16T00:56:00.724096",
          "status": "completed"
        },
        "tags": [],
        "id": "sA4goGDT3ggC",
        "colab_type": "code",
        "colab": {},
        "outputId": "bf0e41e7-7054-45b5-df89-21e372318c3d"
      },
      "source": [
        "def eval_fun(labels, preds):\n",
        "    labels = label.split(' ')\n",
        "    preds = tweet.split(' ')\n",
        "    rr = (np.intersect1d(label, tweet))\n",
        "    precision = np.float(len(rr)) / len(tweet)\n",
        "    recall = np.float(len(rr)) / len(label)\n",
        "    try:\n",
        "        f1 = 2 * precision * recall / (precision + recall)\n",
        "    except ZeroDivisionError:\n",
        "        return (precision, recall, 0.0)\n",
        "    return (precision, recall, f1)\n",
        "print(1)"
      ],
      "execution_count": null,
      "outputs": [
        {
          "output_type": "stream",
          "text": [
            "1\n"
          ],
          "name": "stdout"
        }
      ]
    },
    {
      "cell_type": "code",
      "metadata": {
        "execution": {
          "iopub.execute_input": "2020-09-16T00:56:00.793013Z",
          "iopub.status.busy": "2020-09-16T00:56:00.792326Z",
          "iopub.status.idle": "2020-09-16T00:56:00.831285Z",
          "shell.execute_reply": "2020-09-16T00:56:00.830722Z"
        },
        "papermill": {
          "duration": 0.05922,
          "end_time": "2020-09-16T00:56:00.831413",
          "exception": false,
          "start_time": "2020-09-16T00:56:00.772193",
          "status": "completed"
        },
        "tags": [],
        "id": "duZdEHP53ggM",
        "colab_type": "code",
        "colab": {},
        "outputId": "34e18ee2-c251-4a75-d7c4-ed1a1f4e934a"
      },
      "source": [
        "import numpy as np\n",
        "print(\"Hatred labeled: {}\\nNon-hatred labeled: {}\".format(\n",
        "    (df.label == 1).sum(),\n",
        "    (df.label == 0).sum()\n",
        "))"
      ],
      "execution_count": null,
      "outputs": [
        {
          "output_type": "stream",
          "text": [
            "Hatred labeled: 755120\n",
            "Non-hatred labeled: 771604\n"
          ],
          "name": "stdout"
        }
      ]
    },
    {
      "cell_type": "code",
      "metadata": {
        "execution": {
          "iopub.execute_input": "2020-09-16T00:56:01.052879Z",
          "iopub.status.busy": "2020-09-16T00:56:01.051863Z",
          "iopub.status.idle": "2020-09-16T00:56:06.537865Z",
          "shell.execute_reply": "2020-09-16T00:56:06.537118Z"
        },
        "papermill": {
          "duration": 5.688688,
          "end_time": "2020-09-16T00:56:06.537988",
          "exception": false,
          "start_time": "2020-09-16T00:56:00.849300",
          "status": "completed"
        },
        "tags": [],
        "id": "_CiRhFdI3ggU",
        "colab_type": "code",
        "colab": {}
      },
      "source": [
        "hashtags = df['tweet'].str.extractall('#(?P<hashtag>[a-zA-Z0-9_]+)').reset_index().groupby('level_0').agg(lambda x: ' '.join(x.values))\n",
        "df.loc[:, 'hashtags'] = hashtags['hashtag']\n",
        "df['hashtags'].fillna('', inplace=True)\n",
        "\n",
        "df.loc[:, 'mentions'] = df['tweet'].str.count('@[a-zA-Z0-9_]+')\n",
        "\n",
        "df.tweet = df.tweet.str.replace('@[a-zA-Z0-9_]+', '')"
      ],
      "execution_count": null,
      "outputs": []
    },
    {
      "cell_type": "code",
      "metadata": {
        "execution": {
          "iopub.execute_input": "2020-09-16T00:56:06.751859Z",
          "iopub.status.busy": "2020-09-16T00:56:06.751113Z",
          "iopub.status.idle": "2020-09-16T00:56:22.852104Z",
          "shell.execute_reply": "2020-09-16T00:56:22.851354Z"
        },
        "papermill": {
          "duration": 16.296306,
          "end_time": "2020-09-16T00:56:22.852226",
          "exception": false,
          "start_time": "2020-09-16T00:56:06.555920",
          "status": "completed"
        },
        "tags": [],
        "id": "xnuSbt4c3ggb",
        "colab_type": "code",
        "colab": {}
      },
      "source": [
        "df.tweet = df.tweet.str.replace('[^a-zA-Z]', ' ')"
      ],
      "execution_count": null,
      "outputs": []
    },
    {
      "cell_type": "code",
      "metadata": {
        "execution": {
          "iopub.execute_input": "2020-09-16T00:56:22.902335Z",
          "iopub.status.busy": "2020-09-16T00:56:22.897982Z",
          "iopub.status.idle": "2020-09-16T01:41:48.625933Z",
          "shell.execute_reply": "2020-09-16T01:41:48.626483Z"
        },
        "papermill": {
          "duration": 2725.756147,
          "end_time": "2020-09-16T01:41:48.626700",
          "exception": false,
          "start_time": "2020-09-16T00:56:22.870553",
          "status": "completed"
        },
        "tags": [],
        "id": "vvlwDLWu3ggh",
        "colab_type": "code",
        "colab": {}
      },
      "source": [
        "from nltk.stem.snowball import SnowballStemmer\n",
        "from nltk.stem import WordNetLemmatizer\n",
        "from nltk.corpus import wordnet\n",
        "from nltk import pos_tag, FreqDist, word_tokenize\n",
        "\n",
        "stemmer = SnowballStemmer('english')\n",
        "lemmer = WordNetLemmatizer()\n",
        "\n",
        "part = {\n",
        "    'N' : 'n',\n",
        "    'V' : 'v',\n",
        "    'J' : 'a',\n",
        "    'S' : 's',\n",
        "    'R' : 'r'\n",
        "}\n",
        "\n",
        "def convert_tag(penn_tag):\n",
        "    if penn_tag in part.keys():\n",
        "        return part[penn_tag]\n",
        "    else:\n",
        "        return 'n'\n",
        "\n",
        "\n",
        "def tag_and_lem(element):\n",
        "    sent = pos_tag(word_tokenize(element))\n",
        "    return ' '.join([lemmer.lemmatize(sent[k][0], convert_tag(sent[k][1][0]))\n",
        "                    for k in range(len(sent))])\n",
        "    \n",
        "\n",
        "df.loc[:, 'tweet'] = df['tweet'].apply(lambda x: tag_and_lem(x))\n",
        "df.loc[:, 'hashtags'] = df['hashtags'].apply(lambda x: ' '.join([stemmer.stem(word) for word in x.split()]))"
      ],
      "execution_count": null,
      "outputs": []
    },
    {
      "cell_type": "code",
      "metadata": {
        "execution": {
          "iopub.execute_input": "2020-09-16T01:41:48.677639Z",
          "iopub.status.busy": "2020-09-16T01:41:48.676419Z",
          "iopub.status.idle": "2020-09-16T01:41:48.743346Z",
          "shell.execute_reply": "2020-09-16T01:41:48.742549Z"
        },
        "papermill": {
          "duration": 0.097683,
          "end_time": "2020-09-16T01:41:48.743465",
          "exception": false,
          "start_time": "2020-09-16T01:41:48.645782",
          "status": "completed"
        },
        "tags": [],
        "id": "HZPH4m5Z3ggo",
        "colab_type": "code",
        "colab": {}
      },
      "source": [
        "X = df.tweet\n",
        "Y = df.label\n",
        "le = LabelEncoder()\n",
        "Y = le.fit_transform(Y)\n",
        "Y = Y.reshape(-1,1)"
      ],
      "execution_count": null,
      "outputs": []
    },
    {
      "cell_type": "code",
      "metadata": {
        "execution": {
          "iopub.execute_input": "2020-09-16T01:41:48.786879Z",
          "iopub.status.busy": "2020-09-16T01:41:48.786149Z",
          "iopub.status.idle": "2020-09-16T01:41:49.157914Z",
          "shell.execute_reply": "2020-09-16T01:41:49.157167Z"
        },
        "papermill": {
          "duration": 0.396071,
          "end_time": "2020-09-16T01:41:49.158042",
          "exception": false,
          "start_time": "2020-09-16T01:41:48.761971",
          "status": "completed"
        },
        "tags": [],
        "id": "84WjzVCj3ggu",
        "colab_type": "code",
        "colab": {}
      },
      "source": [
        "X_train,X_test,Y_train,Y_test = train_test_split(X,Y,test_size=0.30)"
      ],
      "execution_count": null,
      "outputs": []
    },
    {
      "cell_type": "code",
      "metadata": {
        "execution": {
          "iopub.execute_input": "2020-09-16T01:41:49.255309Z",
          "iopub.status.busy": "2020-09-16T01:41:49.234438Z",
          "iopub.status.idle": "2020-09-16T01:42:45.075466Z",
          "shell.execute_reply": "2020-09-16T01:42:45.074712Z"
        },
        "papermill": {
          "duration": 55.898993,
          "end_time": "2020-09-16T01:42:45.075612",
          "exception": false,
          "start_time": "2020-09-16T01:41:49.176619",
          "status": "completed"
        },
        "tags": [],
        "id": "IBrPqB_W3gg0",
        "colab_type": "code",
        "colab": {}
      },
      "source": [
        "from keras.preprocessing.text import Tokenizer\n",
        "max_words = 1000\n",
        "max_len = 100\n",
        "tok = Tokenizer(num_words=max_words)\n",
        "tok.fit_on_texts(X_train)\n",
        "sequences = tok.texts_to_sequences(X_train)\n",
        "sequences_matrix = sequence.pad_sequences(sequences,maxlen=max_len)"
      ],
      "execution_count": null,
      "outputs": []
    },
    {
      "cell_type": "code",
      "metadata": {
        "execution": {
          "iopub.execute_input": "2020-09-16T01:42:45.123106Z",
          "iopub.status.busy": "2020-09-16T01:42:45.122361Z",
          "iopub.status.idle": "2020-09-16T01:42:45.124968Z",
          "shell.execute_reply": "2020-09-16T01:42:45.125438Z"
        },
        "papermill": {
          "duration": 0.030924,
          "end_time": "2020-09-16T01:42:45.125616",
          "exception": false,
          "start_time": "2020-09-16T01:42:45.094692",
          "status": "completed"
        },
        "tags": [],
        "id": "-fY1Tob03gg7",
        "colab_type": "code",
        "colab": {}
      },
      "source": [
        "def RNN():\n",
        "    inputs = Input(name='inputs',shape=[max_len])\n",
        "    layer = Embedding(max_words,50,input_length=max_len)(inputs)\n",
        "    layer = LSTM(64)(layer)\n",
        "    layer = Dense(64,name='FC1')(layer)\n",
        "    layer = Activation('relu')(layer)\n",
        "    layer = Dropout(0.5)(layer)\n",
        "    layer = Dense(1,name='out_layer')(layer)\n",
        "    layer = Activation('sigmoid')(layer)\n",
        "    model = Model(inputs=inputs,outputs=layer)\n",
        "    return model"
      ],
      "execution_count": null,
      "outputs": []
    },
    {
      "cell_type": "code",
      "metadata": {
        "execution": {
          "iopub.execute_input": "2020-09-16T01:42:45.169893Z",
          "iopub.status.busy": "2020-09-16T01:42:45.169165Z",
          "iopub.status.idle": "2020-09-16T01:42:45.732772Z",
          "shell.execute_reply": "2020-09-16T01:42:45.731802Z"
        },
        "papermill": {
          "duration": 0.58821,
          "end_time": "2020-09-16T01:42:45.732960",
          "exception": false,
          "start_time": "2020-09-16T01:42:45.144750",
          "status": "completed"
        },
        "tags": [],
        "id": "Rh7C1uPe3ghB",
        "colab_type": "code",
        "colab": {},
        "outputId": "8ee47b30-01d3-4b29-8629-0b3943751227"
      },
      "source": [
        "\n",
        "model = RNN()\n",
        "model.summary()\n",
        "model.compile(loss='binary_crossentropy',optimizer=RMSprop(),metrics=['accuracy'])"
      ],
      "execution_count": null,
      "outputs": [
        {
          "output_type": "stream",
          "text": [
            "Model: \"functional_1\"\n",
            "_________________________________________________________________\n",
            "Layer (type)                 Output Shape              Param #   \n",
            "=================================================================\n",
            "inputs (InputLayer)          [(None, 100)]             0         \n",
            "_________________________________________________________________\n",
            "embedding (Embedding)        (None, 100, 50)           50000     \n",
            "_________________________________________________________________\n",
            "lstm (LSTM)                  (None, 64)                29440     \n",
            "_________________________________________________________________\n",
            "FC1 (Dense)                  (None, 64)                4160      \n",
            "_________________________________________________________________\n",
            "activation (Activation)      (None, 64)                0         \n",
            "_________________________________________________________________\n",
            "dropout (Dropout)            (None, 64)                0         \n",
            "_________________________________________________________________\n",
            "out_layer (Dense)            (None, 1)                 65        \n",
            "_________________________________________________________________\n",
            "activation_1 (Activation)    (None, 1)                 0         \n",
            "=================================================================\n",
            "Total params: 83,665\n",
            "Trainable params: 83,665\n",
            "Non-trainable params: 0\n",
            "_________________________________________________________________\n"
          ],
          "name": "stdout"
        }
      ]
    },
    {
      "cell_type": "code",
      "metadata": {
        "execution": {
          "iopub.execute_input": "2020-09-16T01:42:45.781291Z",
          "iopub.status.busy": "2020-09-16T01:42:45.780489Z",
          "iopub.status.idle": "2020-09-16T03:16:19.851165Z",
          "shell.execute_reply": "2020-09-16T03:16:19.850614Z"
        },
        "papermill": {
          "duration": 5614.097388,
          "end_time": "2020-09-16T03:16:19.851293",
          "exception": false,
          "start_time": "2020-09-16T01:42:45.753905",
          "status": "completed"
        },
        "tags": [],
        "id": "fT98gtUt3ghH",
        "colab_type": "code",
        "colab": {},
        "outputId": "9b662a16-ac5d-4c78-ae03-971d66fb1f45"
      },
      "source": [
        "history = model.fit(sequences_matrix,Y_train,batch_size=64,epochs=10,\n",
        "          validation_split=0.2,callbacks=[EarlyStopping(monitor='val_loss',min_delta=0.0001)])"
      ],
      "execution_count": null,
      "outputs": [
        {
          "output_type": "stream",
          "text": [
            "Epoch 1/10\n",
            "13359/13359 [==============================] - 931s 70ms/step - loss: 0.4994 - accuracy: 0.7573 - val_loss: 0.4793 - val_accuracy: 0.7686\n",
            "Epoch 2/10\n",
            "13359/13359 [==============================] - 933s 70ms/step - loss: 0.4803 - accuracy: 0.7699 - val_loss: 0.4714 - val_accuracy: 0.7726\n",
            "Epoch 3/10\n",
            "13359/13359 [==============================] - 937s 70ms/step - loss: 0.4747 - accuracy: 0.7740 - val_loss: 0.4699 - val_accuracy: 0.7753\n",
            "Epoch 4/10\n",
            "13359/13359 [==============================] - 938s 70ms/step - loss: 0.4711 - accuracy: 0.7767 - val_loss: 0.4680 - val_accuracy: 0.7751\n",
            "Epoch 5/10\n",
            "13359/13359 [==============================] - 937s 70ms/step - loss: 0.4691 - accuracy: 0.7784 - val_loss: 0.4660 - val_accuracy: 0.7768\n",
            "Epoch 6/10\n",
            "13359/13359 [==============================] - 935s 70ms/step - loss: 0.4687 - accuracy: 0.7795 - val_loss: 0.4668 - val_accuracy: 0.7771\n"
          ],
          "name": "stdout"
        }
      ]
    },
    {
      "cell_type": "code",
      "metadata": {
        "execution": {
          "iopub.execute_input": "2020-09-16T03:17:14.581782Z",
          "iopub.status.busy": "2020-09-16T03:17:14.573711Z",
          "iopub.status.idle": "2020-09-16T03:17:28.982892Z",
          "shell.execute_reply": "2020-09-16T03:17:28.981775Z"
        },
        "papermill": {
          "duration": 41.794288,
          "end_time": "2020-09-16T03:17:28.983049",
          "exception": false,
          "start_time": "2020-09-16T03:16:47.188761",
          "status": "completed"
        },
        "tags": [],
        "id": "XZgwaCwl3ghO",
        "colab_type": "code",
        "colab": {}
      },
      "source": [
        "test_sequences = tok.texts_to_sequences(X_test)\n",
        "test_sequences_matrix = sequence.pad_sequences(test_sequences,maxlen=max_len)"
      ],
      "execution_count": null,
      "outputs": []
    },
    {
      "cell_type": "code",
      "metadata": {
        "execution": {
          "iopub.execute_input": "2020-09-16T03:18:23.378471Z",
          "iopub.status.busy": "2020-09-16T03:18:23.376784Z",
          "iopub.status.idle": "2020-09-16T03:21:48.174990Z",
          "shell.execute_reply": "2020-09-16T03:21:48.175774Z"
        },
        "papermill": {
          "duration": 232.274013,
          "end_time": "2020-09-16T03:21:48.175985",
          "exception": false,
          "start_time": "2020-09-16T03:17:55.901972",
          "status": "completed"
        },
        "tags": [],
        "id": "2WbAAc2Z3ghY",
        "colab_type": "code",
        "colab": {},
        "outputId": "1e9ca2c7-f499-44aa-c693-6e29847d3147"
      },
      "source": [
        "accr = model.evaluate(test_sequences_matrix,Y_test)"
      ],
      "execution_count": null,
      "outputs": [
        {
          "output_type": "stream",
          "text": [
            "14314/14314 [==============================] - 205s 14ms/step - loss: 0.4684 - accuracy: 0.7772\n"
          ],
          "name": "stdout"
        }
      ]
    },
    {
      "cell_type": "code",
      "metadata": {
        "execution": {
          "iopub.execute_input": "2020-09-16T03:22:44.785976Z",
          "iopub.status.busy": "2020-09-16T03:22:44.785274Z",
          "iopub.status.idle": "2020-09-16T03:22:44.789639Z",
          "shell.execute_reply": "2020-09-16T03:22:44.788704Z"
        },
        "papermill": {
          "duration": 28.197863,
          "end_time": "2020-09-16T03:22:44.789801",
          "exception": false,
          "start_time": "2020-09-16T03:22:16.591938",
          "status": "completed"
        },
        "tags": [],
        "id": "n0ij_cxA3ghg",
        "colab_type": "code",
        "colab": {},
        "outputId": "d3645775-6ade-46c9-d854-4bf6f8a5b653"
      },
      "source": [
        "print('Test set\\n  Loss: {:0.3f}\\n  Accuracy: {:0.3f}'.format(accr[0],accr[1]))"
      ],
      "execution_count": null,
      "outputs": [
        {
          "output_type": "stream",
          "text": [
            "Test set\n",
            "  Loss: 0.468\n",
            "  Accuracy: 0.777\n"
          ],
          "name": "stdout"
        }
      ]
    },
    {
      "cell_type": "code",
      "metadata": {
        "execution": {
          "iopub.execute_input": "2020-09-16T03:23:41.401401Z",
          "iopub.status.busy": "2020-09-16T03:23:41.400621Z",
          "iopub.status.idle": "2020-09-16T03:23:41.788537Z",
          "shell.execute_reply": "2020-09-16T03:23:41.788001Z"
        },
        "papermill": {
          "duration": 28.726625,
          "end_time": "2020-09-16T03:23:41.788660",
          "exception": false,
          "start_time": "2020-09-16T03:23:13.062035",
          "status": "completed"
        },
        "tags": [],
        "id": "6LBZH59I3ghm",
        "colab_type": "code",
        "colab": {},
        "outputId": "fc27d318-b752-4340-8a47-3d01d12ec544"
      },
      "source": [
        "import matplotlib.pyplot as plt\n",
        "acc = history.history['acc']\n",
        "val_acc = history.history['val_acc']\n",
        "loss = history.history['loss']\n",
        "val_loss = history.history['val_loss']\n",
        "epochs = range(1, len(acc) + 1)\n",
        "plt.plot(epochs, acc, 'bo', label='Training acc')\n",
        "plt.plot(epochs, val_acc, 'b', label='Validation acc')\n",
        "plt.title('Training and validation accuracy')\n",
        "plt.legend()\n",
        "plt.figure()\n",
        "plt.plot(epochs, loss, 'bo', label='Training loss')\n",
        "plt.plot(epochs, val_loss, 'b', label='Validation loss')\n",
        "plt.title('Training and validation loss')\n",
        "plt.legend()\n",
        "plt.show()"
      ],
      "execution_count": null,
      "outputs": [
        {
          "output_type": "error",
          "ename": "KeyError",
          "evalue": "'acc'",
          "traceback": [
            "\u001b[0;31m---------------------------------------------------------------------------\u001b[0m",
            "\u001b[0;31mKeyError\u001b[0m                                  Traceback (most recent call last)",
            "\u001b[0;32m<ipython-input-20-2a1f94d895e5>\u001b[0m in \u001b[0;36m<module>\u001b[0;34m\u001b[0m\n\u001b[1;32m      1\u001b[0m \u001b[0;32mimport\u001b[0m \u001b[0mmatplotlib\u001b[0m\u001b[0;34m.\u001b[0m\u001b[0mpyplot\u001b[0m \u001b[0;32mas\u001b[0m \u001b[0mplt\u001b[0m\u001b[0;34m\u001b[0m\u001b[0;34m\u001b[0m\u001b[0m\n\u001b[0;32m----> 2\u001b[0;31m \u001b[0macc\u001b[0m \u001b[0;34m=\u001b[0m \u001b[0mhistory\u001b[0m\u001b[0;34m.\u001b[0m\u001b[0mhistory\u001b[0m\u001b[0;34m[\u001b[0m\u001b[0;34m'acc'\u001b[0m\u001b[0;34m]\u001b[0m\u001b[0;34m\u001b[0m\u001b[0;34m\u001b[0m\u001b[0m\n\u001b[0m\u001b[1;32m      3\u001b[0m \u001b[0mval_acc\u001b[0m \u001b[0;34m=\u001b[0m \u001b[0mhistory\u001b[0m\u001b[0;34m.\u001b[0m\u001b[0mhistory\u001b[0m\u001b[0;34m[\u001b[0m\u001b[0;34m'val_acc'\u001b[0m\u001b[0;34m]\u001b[0m\u001b[0;34m\u001b[0m\u001b[0;34m\u001b[0m\u001b[0m\n\u001b[1;32m      4\u001b[0m \u001b[0mloss\u001b[0m \u001b[0;34m=\u001b[0m \u001b[0mhistory\u001b[0m\u001b[0;34m.\u001b[0m\u001b[0mhistory\u001b[0m\u001b[0;34m[\u001b[0m\u001b[0;34m'loss'\u001b[0m\u001b[0;34m]\u001b[0m\u001b[0;34m\u001b[0m\u001b[0;34m\u001b[0m\u001b[0m\n\u001b[1;32m      5\u001b[0m \u001b[0mval_loss\u001b[0m \u001b[0;34m=\u001b[0m \u001b[0mhistory\u001b[0m\u001b[0;34m.\u001b[0m\u001b[0mhistory\u001b[0m\u001b[0;34m[\u001b[0m\u001b[0;34m'val_loss'\u001b[0m\u001b[0;34m]\u001b[0m\u001b[0;34m\u001b[0m\u001b[0;34m\u001b[0m\u001b[0m\n",
            "\u001b[0;31mKeyError\u001b[0m: 'acc'"
          ]
        }
      ]
    }
  ]
}