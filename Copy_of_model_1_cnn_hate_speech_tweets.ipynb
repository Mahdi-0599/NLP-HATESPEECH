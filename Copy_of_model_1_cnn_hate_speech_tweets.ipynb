{
  "nbformat": 4,
  "nbformat_minor": 0,
  "metadata": {
    "kernelspec": {
      "name": "python3",
      "display_name": "Python 3",
      "language": "python"
    },
    "language_info": {
      "name": "python",
      "version": "3.6.6",
      "mimetype": "text/x-python",
      "codemirror_mode": {
        "name": "ipython",
        "version": 3
      },
      "pygments_lexer": "ipython3",
      "nbconvert_exporter": "python",
      "file_extension": ".py"
    },
    "colab": {
      "name": "Copy of model-1-cnn-hate-speech-tweets.ipynb",
      "provenance": [],
      "collapsed_sections": [],
      "include_colab_link": true
    }
  },
  "cells": [
    {
      "cell_type": "markdown",
      "metadata": {
        "id": "view-in-github",
        "colab_type": "text"
      },
      "source": [
        "<a href=\"https://colab.research.google.com/github/Mahdi-0599/NLP-HATESPEECH/blob/master/Copy_of_model_1_cnn_hate_speech_tweets.ipynb\" target=\"_parent\"><img src=\"https://colab.research.google.com/assets/colab-badge.svg\" alt=\"Open In Colab\"/></a>"
      ]
    },
    {
      "cell_type": "markdown",
      "metadata": {
        "_uuid": "e78c15c05b99a04ec5b4468299c8308041255bd0",
        "id": "450OHICs6v8d",
        "colab_type": "text"
      },
      "source": [
        "## Description\n",
        "Dataset contains nearly 32K tweets which are labeled based on having racist or sexist content. We are going to analyse this dataset and tweets, and by the end, create a classification model to classify tweets.   \n",
        "Each row in the dataset has 3 columns:\n",
        "* `id`: Assigned ID to this tweet by Analytics Vidhya.\n",
        "* `label`: Tweet label, 1 if tweet has hatred content and 0 otherwise.\n",
        "* `tweet`: Tweet text.  \n",
        "\n",
        "Dataset is provided by [Analytics Vidhya](http://https://datahack.analyticsvidhya.com/contest/practice-problem-twitter-sentiment-analysis/)  "
      ]
    },
    {
      "cell_type": "code",
      "metadata": {
        "_uuid": "8f2839f25d086af736a60e9eeb907d3b93b6e0e5",
        "_cell_guid": "b1076dfc-b9ad-4769-8c92-a6c4dae69d19",
        "trusted": true,
        "_kg_hide-output": true,
        "id": "LHPs4lSz6v8k",
        "colab_type": "code",
        "colab": {},
        "outputId": "f209a59e-a34e-4d76-ad39-0db6516d71e6"
      },
      "source": [
        "import numpy as np\n",
        "import pandas as pd\n",
        "import nltk\n",
        "from wordcloud import WordCloud\n",
        "import matplotlib.pyplot as plt\n",
        "plt.style.use('ggplot')\n",
        "import seaborn as sns\n",
        "from sklearn.feature_extraction.text import CountVectorizer, TfidfVectorizer\n",
        "\n",
        "data = pd.read_csv('../input/train.csv')\n",
        "data"
      ],
      "execution_count": null,
      "outputs": [
        {
          "output_type": "execute_result",
          "data": {
            "text/plain": [
              "          id                        ...                                                                      tweet\n",
              "0          1                        ...                           @user when a father is dysfunctional and is s...\n",
              "1          2                        ...                          @user @user thanks for #lyft credit i can't us...\n",
              "2          3                        ...                                                        bihday your majesty\n",
              "3          4                        ...                          #model   i love u take with u all the time in ...\n",
              "4          5                        ...                                     factsguide: society now    #motivation\n",
              "5          6                        ...                          [2/2] huge fan fare and big talking before the...\n",
              "6          7                        ...                           @user camping tomorrow @user @user @user @use...\n",
              "7          8                        ...                          the next school year is the year for exams.ð...\n",
              "8          9                        ...                          we won!!! love the land!!! #allin #cavs #champ...\n",
              "9         10                        ...                           @user @user welcome here !  i'm   it's so #gr...\n",
              "10        11                        ...                           â #ireland consumer price index (mom) climb...\n",
              "11        12                        ...                          we are so selfish. #orlando #standwithorlando ...\n",
              "12        13                        ...                          i get to see my daddy today!!   #80days #getti...\n",
              "13        14                        ...                          @user #cnn calls #michigan middle school 'buil...\n",
              "14        15                        ...                          no comment!  in #australia   #opkillingbay #se...\n",
              "15        16                        ...                          ouch...junior is angryð#got7 #junior #yugyo...\n",
              "16        17                        ...                          i am thankful for having a paner. #thankful #p...\n",
              "17        18                        ...                                                     retweet if you agree! \n",
              "18        19                        ...                          its #friday! ð smiles all around via ig use...\n",
              "19        20                        ...                          as we all know, essential oils are not made of...\n",
              "20        21                        ...                          #euro2016 people blaming ha for conceded goal ...\n",
              "21        22                        ...                          sad little dude..   #badday #coneofshame #cats...\n",
              "22        23                        ...                          product of the day: happy man #wine tool  who'...\n",
              "23        24                        ...                            @user @user lumpy says i am a . prove it lumpy.\n",
              "24        25                        ...                           @user #tgif   #ff to my #gamedev #indiedev #i...\n",
              "25        26                        ...                          beautiful sign by vendor 80 for $45.00!! #upsi...\n",
              "26        27                        ...                           @user all #smiles when #media is   !! ðð...\n",
              "27        28                        ...                          we had a great panel on the mediatization of t...\n",
              "28        29                        ...                                happy father's day @user ðððð  \n",
              "29        30                        ...                          50 people went to nightclub to have a good nig...\n",
              "...      ...                        ...                                                                        ...\n",
              "31932  31933                        ...                                                       @user thanks gemma  \n",
              "31933  31934                        ...                          @user judd is a  &amp; #homophobic #freemilo #...\n",
              "31934  31935                        ...                          lady banned from kentucky mall. @user  #jcpenn...\n",
              "31935  31936                        ...                          ugh i'm trying to enjoy my happy hour drink &a...\n",
              "31936  31937                        ...                          want to know how to live a   life? do more thi...\n",
              "31937  31938                        ...                                                         love island ð  \n",
              "31938  31939                        ...                          my fav actor #vijaysethupathi ! my fav actress...\n",
              "31939  31940                        ...                              whew  ð\n",
              " it's a productive and   #friday!!!\n",
              "31940  31941                        ...                                         @user she's finally here! @user   \n",
              "31941  31942                        ...                          passed first year of uni #yay #love #pass #uni...\n",
              "31942  31943                        ...                          this week is flying by   #humpday - #wednesday...\n",
              "31943  31944                        ...                           @user modeling photoshoot this friday yay #mo...\n",
              "31944  31945                        ...                          you're surrounded by people who love you (even...\n",
              "31945  31946                        ...                          feel like... ðð¶ð #dog #summer #hot #h...\n",
              "31946  31947                        ...                          @user omfg i'm offended! i'm a  mailbox and i'...\n",
              "31947  31948                        ...                          @user @user you don't have the balls to hashta...\n",
              "31948  31949                        ...                           makes you ask yourself, who am i? then am i a...\n",
              "31949  31950                        ...                          hear one of my new songs! don't go - katie ell...\n",
              "31950  31951                        ...                           @user you can try to 'tail' us to stop, 'butt...\n",
              "31951  31952                        ...                          i've just posted a new blog: #secondlife #lone...\n",
              "31952  31953                        ...                                        @user you went too far with @user  \n",
              "31953  31954                        ...                          good morning #instagram #shower #water #berlin...\n",
              "31954  31955                        ...                          #holiday   bull up: you will dominate your bul...\n",
              "31955  31956                        ...                          less than 2 weeks ð\n",
              "ðð¼ð¹ððµ @us...\n",
              "31956  31957                        ...                          off fishing tomorrow @user carnt wait first ti...\n",
              "31957  31958                        ...                          ate @user isz that youuu?ðððððð...\n",
              "31958  31959                        ...                            to see nina turner on the airwaves trying to...\n",
              "31959  31960                        ...                          listening to sad songs on a monday morning otw...\n",
              "31960  31961                        ...                          @user #sikh #temple vandalised in in #calgary,...\n",
              "31961  31962                        ...                                           thank you @user for you follow  \n",
              "\n",
              "[31962 rows x 3 columns]"
            ],
            "text/html": [
              "<div>\n",
              "<style scoped>\n",
              "    .dataframe tbody tr th:only-of-type {\n",
              "        vertical-align: middle;\n",
              "    }\n",
              "\n",
              "    .dataframe tbody tr th {\n",
              "        vertical-align: top;\n",
              "    }\n",
              "\n",
              "    .dataframe thead th {\n",
              "        text-align: right;\n",
              "    }\n",
              "</style>\n",
              "<table border=\"1\" class=\"dataframe\">\n",
              "  <thead>\n",
              "    <tr style=\"text-align: right;\">\n",
              "      <th></th>\n",
              "      <th>id</th>\n",
              "      <th>label</th>\n",
              "      <th>tweet</th>\n",
              "    </tr>\n",
              "  </thead>\n",
              "  <tbody>\n",
              "    <tr>\n",
              "      <th>0</th>\n",
              "      <td>1</td>\n",
              "      <td>0</td>\n",
              "      <td>@user when a father is dysfunctional and is s...</td>\n",
              "    </tr>\n",
              "    <tr>\n",
              "      <th>1</th>\n",
              "      <td>2</td>\n",
              "      <td>0</td>\n",
              "      <td>@user @user thanks for #lyft credit i can't us...</td>\n",
              "    </tr>\n",
              "    <tr>\n",
              "      <th>2</th>\n",
              "      <td>3</td>\n",
              "      <td>0</td>\n",
              "      <td>bihday your majesty</td>\n",
              "    </tr>\n",
              "    <tr>\n",
              "      <th>3</th>\n",
              "      <td>4</td>\n",
              "      <td>0</td>\n",
              "      <td>#model   i love u take with u all the time in ...</td>\n",
              "    </tr>\n",
              "    <tr>\n",
              "      <th>4</th>\n",
              "      <td>5</td>\n",
              "      <td>0</td>\n",
              "      <td>factsguide: society now    #motivation</td>\n",
              "    </tr>\n",
              "    <tr>\n",
              "      <th>5</th>\n",
              "      <td>6</td>\n",
              "      <td>0</td>\n",
              "      <td>[2/2] huge fan fare and big talking before the...</td>\n",
              "    </tr>\n",
              "    <tr>\n",
              "      <th>6</th>\n",
              "      <td>7</td>\n",
              "      <td>0</td>\n",
              "      <td>@user camping tomorrow @user @user @user @use...</td>\n",
              "    </tr>\n",
              "    <tr>\n",
              "      <th>7</th>\n",
              "      <td>8</td>\n",
              "      <td>0</td>\n",
              "      <td>the next school year is the year for exams.ð...</td>\n",
              "    </tr>\n",
              "    <tr>\n",
              "      <th>8</th>\n",
              "      <td>9</td>\n",
              "      <td>0</td>\n",
              "      <td>we won!!! love the land!!! #allin #cavs #champ...</td>\n",
              "    </tr>\n",
              "    <tr>\n",
              "      <th>9</th>\n",
              "      <td>10</td>\n",
              "      <td>0</td>\n",
              "      <td>@user @user welcome here !  i'm   it's so #gr...</td>\n",
              "    </tr>\n",
              "    <tr>\n",
              "      <th>10</th>\n",
              "      <td>11</td>\n",
              "      <td>0</td>\n",
              "      <td>â #ireland consumer price index (mom) climb...</td>\n",
              "    </tr>\n",
              "    <tr>\n",
              "      <th>11</th>\n",
              "      <td>12</td>\n",
              "      <td>0</td>\n",
              "      <td>we are so selfish. #orlando #standwithorlando ...</td>\n",
              "    </tr>\n",
              "    <tr>\n",
              "      <th>12</th>\n",
              "      <td>13</td>\n",
              "      <td>0</td>\n",
              "      <td>i get to see my daddy today!!   #80days #getti...</td>\n",
              "    </tr>\n",
              "    <tr>\n",
              "      <th>13</th>\n",
              "      <td>14</td>\n",
              "      <td>1</td>\n",
              "      <td>@user #cnn calls #michigan middle school 'buil...</td>\n",
              "    </tr>\n",
              "    <tr>\n",
              "      <th>14</th>\n",
              "      <td>15</td>\n",
              "      <td>1</td>\n",
              "      <td>no comment!  in #australia   #opkillingbay #se...</td>\n",
              "    </tr>\n",
              "    <tr>\n",
              "      <th>15</th>\n",
              "      <td>16</td>\n",
              "      <td>0</td>\n",
              "      <td>ouch...junior is angryð#got7 #junior #yugyo...</td>\n",
              "    </tr>\n",
              "    <tr>\n",
              "      <th>16</th>\n",
              "      <td>17</td>\n",
              "      <td>0</td>\n",
              "      <td>i am thankful for having a paner. #thankful #p...</td>\n",
              "    </tr>\n",
              "    <tr>\n",
              "      <th>17</th>\n",
              "      <td>18</td>\n",
              "      <td>1</td>\n",
              "      <td>retweet if you agree!</td>\n",
              "    </tr>\n",
              "    <tr>\n",
              "      <th>18</th>\n",
              "      <td>19</td>\n",
              "      <td>0</td>\n",
              "      <td>its #friday! ð smiles all around via ig use...</td>\n",
              "    </tr>\n",
              "    <tr>\n",
              "      <th>19</th>\n",
              "      <td>20</td>\n",
              "      <td>0</td>\n",
              "      <td>as we all know, essential oils are not made of...</td>\n",
              "    </tr>\n",
              "    <tr>\n",
              "      <th>20</th>\n",
              "      <td>21</td>\n",
              "      <td>0</td>\n",
              "      <td>#euro2016 people blaming ha for conceded goal ...</td>\n",
              "    </tr>\n",
              "    <tr>\n",
              "      <th>21</th>\n",
              "      <td>22</td>\n",
              "      <td>0</td>\n",
              "      <td>sad little dude..   #badday #coneofshame #cats...</td>\n",
              "    </tr>\n",
              "    <tr>\n",
              "      <th>22</th>\n",
              "      <td>23</td>\n",
              "      <td>0</td>\n",
              "      <td>product of the day: happy man #wine tool  who'...</td>\n",
              "    </tr>\n",
              "    <tr>\n",
              "      <th>23</th>\n",
              "      <td>24</td>\n",
              "      <td>1</td>\n",
              "      <td>@user @user lumpy says i am a . prove it lumpy.</td>\n",
              "    </tr>\n",
              "    <tr>\n",
              "      <th>24</th>\n",
              "      <td>25</td>\n",
              "      <td>0</td>\n",
              "      <td>@user #tgif   #ff to my #gamedev #indiedev #i...</td>\n",
              "    </tr>\n",
              "    <tr>\n",
              "      <th>25</th>\n",
              "      <td>26</td>\n",
              "      <td>0</td>\n",
              "      <td>beautiful sign by vendor 80 for $45.00!! #upsi...</td>\n",
              "    </tr>\n",
              "    <tr>\n",
              "      <th>26</th>\n",
              "      <td>27</td>\n",
              "      <td>0</td>\n",
              "      <td>@user all #smiles when #media is   !! ðð...</td>\n",
              "    </tr>\n",
              "    <tr>\n",
              "      <th>27</th>\n",
              "      <td>28</td>\n",
              "      <td>0</td>\n",
              "      <td>we had a great panel on the mediatization of t...</td>\n",
              "    </tr>\n",
              "    <tr>\n",
              "      <th>28</th>\n",
              "      <td>29</td>\n",
              "      <td>0</td>\n",
              "      <td>happy father's day @user ðððð</td>\n",
              "    </tr>\n",
              "    <tr>\n",
              "      <th>29</th>\n",
              "      <td>30</td>\n",
              "      <td>0</td>\n",
              "      <td>50 people went to nightclub to have a good nig...</td>\n",
              "    </tr>\n",
              "    <tr>\n",
              "      <th>...</th>\n",
              "      <td>...</td>\n",
              "      <td>...</td>\n",
              "      <td>...</td>\n",
              "    </tr>\n",
              "    <tr>\n",
              "      <th>31932</th>\n",
              "      <td>31933</td>\n",
              "      <td>0</td>\n",
              "      <td>@user thanks gemma</td>\n",
              "    </tr>\n",
              "    <tr>\n",
              "      <th>31933</th>\n",
              "      <td>31934</td>\n",
              "      <td>1</td>\n",
              "      <td>@user judd is a  &amp;amp; #homophobic #freemilo #...</td>\n",
              "    </tr>\n",
              "    <tr>\n",
              "      <th>31934</th>\n",
              "      <td>31935</td>\n",
              "      <td>1</td>\n",
              "      <td>lady banned from kentucky mall. @user  #jcpenn...</td>\n",
              "    </tr>\n",
              "    <tr>\n",
              "      <th>31935</th>\n",
              "      <td>31936</td>\n",
              "      <td>0</td>\n",
              "      <td>ugh i'm trying to enjoy my happy hour drink &amp;a...</td>\n",
              "    </tr>\n",
              "    <tr>\n",
              "      <th>31936</th>\n",
              "      <td>31937</td>\n",
              "      <td>0</td>\n",
              "      <td>want to know how to live a   life? do more thi...</td>\n",
              "    </tr>\n",
              "    <tr>\n",
              "      <th>31937</th>\n",
              "      <td>31938</td>\n",
              "      <td>0</td>\n",
              "      <td>love island ð</td>\n",
              "    </tr>\n",
              "    <tr>\n",
              "      <th>31938</th>\n",
              "      <td>31939</td>\n",
              "      <td>0</td>\n",
              "      <td>my fav actor #vijaysethupathi ! my fav actress...</td>\n",
              "    </tr>\n",
              "    <tr>\n",
              "      <th>31939</th>\n",
              "      <td>31940</td>\n",
              "      <td>0</td>\n",
              "      <td>whew  ð it's a productive and   #friday!!!</td>\n",
              "    </tr>\n",
              "    <tr>\n",
              "      <th>31940</th>\n",
              "      <td>31941</td>\n",
              "      <td>0</td>\n",
              "      <td>@user she's finally here! @user</td>\n",
              "    </tr>\n",
              "    <tr>\n",
              "      <th>31941</th>\n",
              "      <td>31942</td>\n",
              "      <td>0</td>\n",
              "      <td>passed first year of uni #yay #love #pass #uni...</td>\n",
              "    </tr>\n",
              "    <tr>\n",
              "      <th>31942</th>\n",
              "      <td>31943</td>\n",
              "      <td>0</td>\n",
              "      <td>this week is flying by   #humpday - #wednesday...</td>\n",
              "    </tr>\n",
              "    <tr>\n",
              "      <th>31943</th>\n",
              "      <td>31944</td>\n",
              "      <td>0</td>\n",
              "      <td>@user modeling photoshoot this friday yay #mo...</td>\n",
              "    </tr>\n",
              "    <tr>\n",
              "      <th>31944</th>\n",
              "      <td>31945</td>\n",
              "      <td>0</td>\n",
              "      <td>you're surrounded by people who love you (even...</td>\n",
              "    </tr>\n",
              "    <tr>\n",
              "      <th>31945</th>\n",
              "      <td>31946</td>\n",
              "      <td>0</td>\n",
              "      <td>feel like... ðð¶ð #dog #summer #hot #h...</td>\n",
              "    </tr>\n",
              "    <tr>\n",
              "      <th>31946</th>\n",
              "      <td>31947</td>\n",
              "      <td>1</td>\n",
              "      <td>@user omfg i'm offended! i'm a  mailbox and i'...</td>\n",
              "    </tr>\n",
              "    <tr>\n",
              "      <th>31947</th>\n",
              "      <td>31948</td>\n",
              "      <td>1</td>\n",
              "      <td>@user @user you don't have the balls to hashta...</td>\n",
              "    </tr>\n",
              "    <tr>\n",
              "      <th>31948</th>\n",
              "      <td>31949</td>\n",
              "      <td>1</td>\n",
              "      <td>makes you ask yourself, who am i? then am i a...</td>\n",
              "    </tr>\n",
              "    <tr>\n",
              "      <th>31949</th>\n",
              "      <td>31950</td>\n",
              "      <td>0</td>\n",
              "      <td>hear one of my new songs! don't go - katie ell...</td>\n",
              "    </tr>\n",
              "    <tr>\n",
              "      <th>31950</th>\n",
              "      <td>31951</td>\n",
              "      <td>0</td>\n",
              "      <td>@user you can try to 'tail' us to stop, 'butt...</td>\n",
              "    </tr>\n",
              "    <tr>\n",
              "      <th>31951</th>\n",
              "      <td>31952</td>\n",
              "      <td>0</td>\n",
              "      <td>i've just posted a new blog: #secondlife #lone...</td>\n",
              "    </tr>\n",
              "    <tr>\n",
              "      <th>31952</th>\n",
              "      <td>31953</td>\n",
              "      <td>0</td>\n",
              "      <td>@user you went too far with @user</td>\n",
              "    </tr>\n",
              "    <tr>\n",
              "      <th>31953</th>\n",
              "      <td>31954</td>\n",
              "      <td>0</td>\n",
              "      <td>good morning #instagram #shower #water #berlin...</td>\n",
              "    </tr>\n",
              "    <tr>\n",
              "      <th>31954</th>\n",
              "      <td>31955</td>\n",
              "      <td>0</td>\n",
              "      <td>#holiday   bull up: you will dominate your bul...</td>\n",
              "    </tr>\n",
              "    <tr>\n",
              "      <th>31955</th>\n",
              "      <td>31956</td>\n",
              "      <td>0</td>\n",
              "      <td>less than 2 weeks ððð¼ð¹ððµ @us...</td>\n",
              "    </tr>\n",
              "    <tr>\n",
              "      <th>31956</th>\n",
              "      <td>31957</td>\n",
              "      <td>0</td>\n",
              "      <td>off fishing tomorrow @user carnt wait first ti...</td>\n",
              "    </tr>\n",
              "    <tr>\n",
              "      <th>31957</th>\n",
              "      <td>31958</td>\n",
              "      <td>0</td>\n",
              "      <td>ate @user isz that youuu?ðððððð...</td>\n",
              "    </tr>\n",
              "    <tr>\n",
              "      <th>31958</th>\n",
              "      <td>31959</td>\n",
              "      <td>0</td>\n",
              "      <td>to see nina turner on the airwaves trying to...</td>\n",
              "    </tr>\n",
              "    <tr>\n",
              "      <th>31959</th>\n",
              "      <td>31960</td>\n",
              "      <td>0</td>\n",
              "      <td>listening to sad songs on a monday morning otw...</td>\n",
              "    </tr>\n",
              "    <tr>\n",
              "      <th>31960</th>\n",
              "      <td>31961</td>\n",
              "      <td>1</td>\n",
              "      <td>@user #sikh #temple vandalised in in #calgary,...</td>\n",
              "    </tr>\n",
              "    <tr>\n",
              "      <th>31961</th>\n",
              "      <td>31962</td>\n",
              "      <td>0</td>\n",
              "      <td>thank you @user for you follow</td>\n",
              "    </tr>\n",
              "  </tbody>\n",
              "</table>\n",
              "<p>31962 rows × 3 columns</p>\n",
              "</div>"
            ]
          },
          "metadata": {
            "tags": []
          },
          "execution_count": 44
        }
      ]
    },
    {
      "cell_type": "markdown",
      "metadata": {
        "_cell_guid": "79c7e3d0-c299-4dcb-8224-4455121ee9b0",
        "collapsed": true,
        "_uuid": "d629ff2d2480ee46fbb7e2d37f6b5fab8052498a",
        "trusted": false,
        "id": "VEwU2qgZ6v81",
        "colab_type": "text"
      },
      "source": [
        "How are tweets spread among these 2 classes?"
      ]
    },
    {
      "cell_type": "code",
      "metadata": {
        "trusted": true,
        "_uuid": "62127fadccac984b3e5e5dcaad931f176f40a480",
        "id": "9-l-JSSL6v83",
        "colab_type": "code",
        "colab": {},
        "outputId": "b6534e8f-fde2-45c4-9555-2b6ad5b1c47c"
      },
      "source": [
        "import numpy as np\n",
        "print(\"Hatred labeled: {}\\nNon-hatred labeled: {}\".format(\n",
        "    (data.label == 1).sum(),\n",
        "    (data.label == 0).sum()\n",
        "))"
      ],
      "execution_count": null,
      "outputs": [
        {
          "output_type": "stream",
          "text": [
            "Hatred labeled: 2242\n",
            "Non-hatred labeled: 29720\n"
          ],
          "name": "stdout"
        }
      ]
    },
    {
      "cell_type": "code",
      "metadata": {
        "trusted": true,
        "id": "5KD1iPvV6v9C",
        "colab_type": "code",
        "colab": {}
      },
      "source": [
        "def eval_fun(labels, preds):\n",
        "    labels = label.split(' ')\n",
        "    preds = tweet.split(' ')\n",
        "    rr = (np.intersect1d(label, tweet))\n",
        "    precision = np.float(len(rr)) / len(tweet)\n",
        "    recall = np.float(len(rr)) / len(label)\n",
        "    try:\n",
        "        f1 = 2 * precision * recall / (precision + recall)\n",
        "    except ZeroDivisionError:\n",
        "        return (precision, recall, 0.0)\n",
        "    return (precision, recall, f1)\n",
        "print(1)"
      ],
      "execution_count": null,
      "outputs": []
    },
    {
      "cell_type": "markdown",
      "metadata": {
        "_uuid": "92839e8dbabe53008a1c73f8c708fd7e675bbe03",
        "id": "xfWszSnq6v9L",
        "colab_type": "text"
      },
      "source": [
        "## Extracting features\n",
        "\n",
        "#### Hashtags and mentions\n",
        "We'll extract hashtags for each tweet as an extra column to explore them later.   \n",
        "For user mentions, all of the usernames have been replaced with `'user'` so we can't get any data from it, we'll just remove mentions and keep the number of mentions in each tweet as an extra features for that tweet.  "
      ]
    },
    {
      "cell_type": "code",
      "metadata": {
        "trusted": true,
        "_uuid": "6e31e542112433b66ca725da19b647da4c71585f",
        "id": "7WpAtlp76v9N",
        "colab_type": "code",
        "colab": {}
      },
      "source": [
        "hashtags = data['tweet'].str.extractall('#(?P<hashtag>[a-zA-Z0-9_]+)').reset_index().groupby('level_0').agg(lambda x: ' '.join(x.values))\n",
        "data.loc[:, 'hashtags'] = hashtags['hashtag']\n",
        "data['hashtags'].fillna('', inplace=True)\n",
        "\n",
        "data.loc[:, 'mentions'] = data['tweet'].str.count('@[a-zA-Z0-9_]+')\n",
        "\n",
        "data.tweet = data.tweet.str.replace('@[a-zA-Z0-9_]+', '')"
      ],
      "execution_count": null,
      "outputs": []
    },
    {
      "cell_type": "markdown",
      "metadata": {
        "_uuid": "ed53500474e96d939cdc5fc6c10a91b5a2dfc198",
        "id": "Lk1BzEFp6v9W",
        "colab_type": "text"
      },
      "source": [
        "#### Removing anything but the words\n",
        "Now we'll remove anything but the words (punctuations, numbers, etc). Note that this time we'll replace them with a blank space since it might be a `_` or `-` or a punctuation with no space from the next word and we don't want the words to join together.  "
      ]
    },
    {
      "cell_type": "code",
      "metadata": {
        "trusted": true,
        "_uuid": "0c62abb7ca3a8a806221ed3cae8a3d9e69faf0aa",
        "id": "eFOlpKgX6v9b",
        "colab_type": "code",
        "colab": {}
      },
      "source": [
        "data.tweet = data.tweet.str.replace('[^a-zA-Z]', ' ')"
      ],
      "execution_count": null,
      "outputs": []
    },
    {
      "cell_type": "markdown",
      "metadata": {
        "_uuid": "996dfe01552929c9fba1db37f66f822dda269984",
        "id": "sSSJn3AW6v9k",
        "colab_type": "text"
      },
      "source": [
        "#### Lemmatization\n",
        "We lemmatize tweets' words as we have the sentences and we can tag part of speeches, and will stem hashtags.  "
      ]
    },
    {
      "cell_type": "markdown",
      "metadata": {
        "id": "2jeosaKQ6v9l",
        "colab_type": "text"
      },
      "source": [
        ""
      ]
    },
    {
      "cell_type": "code",
      "metadata": {
        "trusted": true,
        "_uuid": "d2786200ecbb879dc9fd3e34d8766bc098cf6ad4",
        "id": "Y3q3VvpX6v9m",
        "colab_type": "code",
        "colab": {}
      },
      "source": [
        "from nltk.stem.snowball import SnowballStemmer\n",
        "from nltk.stem import WordNetLemmatizer\n",
        "from nltk.corpus import wordnet\n",
        "from nltk import pos_tag, FreqDist, word_tokenize\n",
        "\n",
        "stemmer = SnowballStemmer('english')\n",
        "lemmer = WordNetLemmatizer()\n",
        "\n",
        "part = {\n",
        "    'N' : 'n',\n",
        "    'V' : 'v',\n",
        "    'J' : 'a',\n",
        "    'S' : 's',\n",
        "    'R' : 'r'\n",
        "}\n",
        "\n",
        "def convert_tag(penn_tag):\n",
        "    if penn_tag in part.keys():\n",
        "        return part[penn_tag]\n",
        "    else:\n",
        "        return 'n'\n",
        "\n",
        "\n",
        "def tag_and_lem(element):\n",
        "    sent = pos_tag(word_tokenize(element))\n",
        "    return ' '.join([lemmer.lemmatize(sent[k][0], convert_tag(sent[k][1][0]))\n",
        "                    for k in range(len(sent))])\n",
        "    \n",
        "\n",
        "data.loc[:, 'tweet'] = data['tweet'].apply(lambda x: tag_and_lem(x))\n",
        "data.loc[:, 'hashtags'] = data['hashtags'].apply(lambda x: ' '.join([stemmer.stem(word) for word in x.split()]))\n"
      ],
      "execution_count": null,
      "outputs": []
    },
    {
      "cell_type": "markdown",
      "metadata": {
        "id": "cxCKlJqH6v90",
        "colab_type": "text"
      },
      "source": [
        "bild model cnn"
      ]
    },
    {
      "cell_type": "code",
      "metadata": {
        "trusted": true,
        "id": "vgXb66yI6v94",
        "colab_type": "code",
        "colab": {}
      },
      "source": [
        "texts = np.array(data['tweet'])\n",
        "labels = np.array(data['label'])"
      ],
      "execution_count": null,
      "outputs": []
    },
    {
      "cell_type": "code",
      "metadata": {
        "trusted": true,
        "id": "r4T7gjXf6v9_",
        "colab_type": "code",
        "colab": {},
        "outputId": "de0560e4-8e96-4975-aa74-43b87d7b2797"
      },
      "source": [
        "from keras.preprocessing.text import Tokenizer\n",
        "from keras.preprocessing.sequence import pad_sequences\n",
        "\n",
        "maxlen = 100\n",
        "samples = texts.shape[0]\n",
        "tokenizer = Tokenizer()\n",
        "tokenizer.fit_on_texts(texts)\n",
        "sequences = tokenizer.texts_to_sequences(texts)\n",
        "word_index = tokenizer.word_index\n",
        "\n",
        "data = pad_sequences(sequences, maxlen)\n",
        "print(data.shape)\n",
        "print(labels.shape)\n"
      ],
      "execution_count": null,
      "outputs": [
        {
          "output_type": "stream",
          "text": [
            "Using TensorFlow backend.\n"
          ],
          "name": "stderr"
        },
        {
          "output_type": "stream",
          "text": [
            "(31962, 100)\n",
            "(31962,)\n"
          ],
          "name": "stdout"
        }
      ]
    },
    {
      "cell_type": "code",
      "metadata": {
        "trusted": true,
        "id": "c8eSBFB96v-E",
        "colab_type": "code",
        "colab": {},
        "outputId": "3d92d68a-c665-4f8e-edae-c1fd16a2223e"
      },
      "source": [
        "x_train = data[:7925]\n",
        "y_train = labels[:7925]\n",
        "\n",
        "x_val = data[7925:8925]\n",
        "y_val = labels[7925:8925]\n",
        "\n",
        "x_test = data[8925:]\n",
        "y_test = labels[8925:]\n",
        "\n",
        "print(x_train.shape)\n",
        "print(x_val.shape)\n",
        "print(x_test.shape)\n",
        "##\n",
        "\n",
        "\n"
      ],
      "execution_count": null,
      "outputs": [
        {
          "output_type": "stream",
          "text": [
            "(7925, 100)\n",
            "(1000, 100)\n",
            "(23037, 100)\n"
          ],
          "name": "stdout"
        }
      ]
    },
    {
      "cell_type": "code",
      "metadata": {
        "trusted": true,
        "id": "5k43-J4I6v-J",
        "colab_type": "code",
        "colab": {}
      },
      "source": [
        ""
      ],
      "execution_count": null,
      "outputs": []
    },
    {
      "cell_type": "code",
      "metadata": {
        "trusted": true,
        "id": "27A4kjUM6v-P",
        "colab_type": "code",
        "colab": {},
        "outputId": "55cb2936-db27-4bab-ff45-1392cc3320a9"
      },
      "source": [
        "from keras.models import Sequential\n",
        "from keras.layers import Dense, Embedding, SimpleRNN, LSTM, GRU, Bidirectional\n",
        "model = Sequential()\n",
        "model.add(Embedding(1+len(word_index), 16))\n",
        "model.add(Bidirectional(LSTM(32, dropout=0.2, recurrent_dropout=0.5, return_sequences=True)))\n",
        "model.add(Bidirectional(LSTM(32, dropout=0.2, recurrent_dropout=0.5)))\n",
        "model.add(Dense(1, activation='sigmoid'))\n",
        "model.summary()\n",
        "\n",
        "\n"
      ],
      "execution_count": null,
      "outputs": [
        {
          "output_type": "stream",
          "text": [
            "_________________________________________________________________\n",
            "Layer (type)                 Output Shape              Param #   \n",
            "=================================================================\n",
            "embedding_1 (Embedding)      (None, None, 16)          545360    \n",
            "_________________________________________________________________\n",
            "bidirectional_1 (Bidirection (None, None, 64)          12544     \n",
            "_________________________________________________________________\n",
            "bidirectional_2 (Bidirection (None, 64)                24832     \n",
            "_________________________________________________________________\n",
            "dense_1 (Dense)              (None, 1)                 65        \n",
            "=================================================================\n",
            "Total params: 582,801\n",
            "Trainable params: 582,801\n",
            "Non-trainable params: 0\n",
            "_________________________________________________________________\n"
          ],
          "name": "stdout"
        }
      ]
    },
    {
      "cell_type": "code",
      "metadata": {
        "trusted": true,
        "id": "S09GZUCP6v-V",
        "colab_type": "code",
        "colab": {}
      },
      "source": [
        "model.compile(optimizer='adam', loss='binary_crossentropy', metrics=['accuracy'])\n"
      ],
      "execution_count": null,
      "outputs": []
    },
    {
      "cell_type": "code",
      "metadata": {
        "trusted": true,
        "id": "eMo9JdkY6v-a",
        "colab_type": "code",
        "colab": {},
        "outputId": "aea32f5d-9e2b-4de5-d175-fcda9d06d824"
      },
      "source": [
        "model.compile(optimizer='rmsprop', loss='binary_crossentropy', metrics=['acc'])\n",
        "history = model.fit(x_train,y_train,epochs=20,batch_size=64,validation_data=(x_val,y_val))\n"
      ],
      "execution_count": null,
      "outputs": [
        {
          "output_type": "stream",
          "text": [
            "Train on 7925 samples, validate on 1000 samples\n",
            "Epoch 1/20\n",
            "7925/7925 [==============================] - 41s 5ms/step - loss: 0.2744 - acc: 0.9258 - val_loss: 0.2328 - val_acc: 0.9340\n",
            "Epoch 2/20\n",
            "7925/7925 [==============================] - 38s 5ms/step - loss: 0.1918 - acc: 0.9334 - val_loss: 0.1497 - val_acc: 0.9570\n",
            "Epoch 3/20\n",
            "7925/7925 [==============================] - 40s 5ms/step - loss: 0.1318 - acc: 0.9544 - val_loss: 0.1485 - val_acc: 0.9550\n",
            "Epoch 4/20\n",
            "7925/7925 [==============================] - 37s 5ms/step - loss: 0.1080 - acc: 0.9647 - val_loss: 0.1508 - val_acc: 0.9550\n",
            "Epoch 5/20\n",
            "7925/7925 [==============================] - 38s 5ms/step - loss: 0.0893 - acc: 0.9722 - val_loss: 0.1500 - val_acc: 0.9520\n",
            "Epoch 6/20\n",
            "7925/7925 [==============================] - 37s 5ms/step - loss: 0.0809 - acc: 0.9732 - val_loss: 0.1456 - val_acc: 0.9520\n",
            "Epoch 7/20\n",
            "7925/7925 [==============================] - 38s 5ms/step - loss: 0.0709 - acc: 0.9768 - val_loss: 0.1568 - val_acc: 0.9510\n",
            "Epoch 8/20\n",
            "7925/7925 [==============================] - 38s 5ms/step - loss: 0.0632 - acc: 0.9794 - val_loss: 0.1579 - val_acc: 0.9480\n",
            "Epoch 9/20\n",
            "7925/7925 [==============================] - 37s 5ms/step - loss: 0.0596 - acc: 0.9811 - val_loss: 0.1650 - val_acc: 0.9530\n",
            "Epoch 10/20\n",
            "7925/7925 [==============================] - 38s 5ms/step - loss: 0.0521 - acc: 0.9837 - val_loss: 0.1639 - val_acc: 0.9440\n",
            "Epoch 11/20\n",
            "7925/7925 [==============================] - 38s 5ms/step - loss: 0.0497 - acc: 0.9850 - val_loss: 0.1882 - val_acc: 0.9460\n",
            "Epoch 12/20\n",
            "7925/7925 [==============================] - 37s 5ms/step - loss: 0.0440 - acc: 0.9864 - val_loss: 0.1817 - val_acc: 0.9490\n",
            "Epoch 13/20\n",
            "7925/7925 [==============================] - 38s 5ms/step - loss: 0.0398 - acc: 0.9876 - val_loss: 0.1933 - val_acc: 0.9370\n",
            "Epoch 14/20\n",
            "7925/7925 [==============================] - 47s 6ms/step - loss: 0.0365 - acc: 0.9891 - val_loss: 0.1892 - val_acc: 0.9560\n",
            "Epoch 15/20\n",
            "7925/7925 [==============================] - 38s 5ms/step - loss: 0.0338 - acc: 0.9894 - val_loss: 0.1951 - val_acc: 0.9400\n",
            "Epoch 16/20\n",
            "7925/7925 [==============================] - 38s 5ms/step - loss: 0.0304 - acc: 0.9905 - val_loss: 0.2089 - val_acc: 0.9390\n",
            "Epoch 17/20\n",
            "7925/7925 [==============================] - 38s 5ms/step - loss: 0.0295 - acc: 0.9914 - val_loss: 0.2029 - val_acc: 0.9480\n",
            "Epoch 18/20\n",
            "7925/7925 [==============================] - 38s 5ms/step - loss: 0.0273 - acc: 0.9917 - val_loss: 0.2077 - val_acc: 0.9500\n",
            "Epoch 19/20\n",
            "7925/7925 [==============================] - 38s 5ms/step - loss: 0.0279 - acc: 0.9921 - val_loss: 0.2034 - val_acc: 0.9520\n",
            "Epoch 20/20\n",
            "7925/7925 [==============================] - 37s 5ms/step - loss: 0.0262 - acc: 0.9927 - val_loss: 0.2156 - val_acc: 0.9530\n"
          ],
          "name": "stdout"
        }
      ]
    },
    {
      "cell_type": "code",
      "metadata": {
        "trusted": true,
        "id": "HeeZbaJw6v-f",
        "colab_type": "code",
        "colab": {}
      },
      "source": [
        "def cnfmatrix(y_test,results):\n",
        "    fp = 0.0\n",
        "    fn = 0.0\n",
        "    tp = 0.0\n",
        "    tn = 0.0\n",
        "    t = 0.0\n",
        "    n = 0.0\n",
        "    results.shape\n",
        "    for i in range(results.shape[0]):\n",
        "        if y_test[i]==1 and results[i]==1:\n",
        "            tp+=1\n",
        "            t+=1\n",
        "        elif y_test[i]==1 and results[i]==0:\n",
        "            fn+=1\n",
        "            t+=1\n",
        "        elif y_test[i]==0 and results[i]==1:\n",
        "            fp+=1\n",
        "            n+=1\n",
        "        elif y_test[i]==0 and results[i]==0:\n",
        "            tn+=1\n",
        "            n+=1\n",
        "    print(tp/results.shape[0],fp/results.shape[0])\n",
        "    print(fn/results.shape[0],tn/results.shape[0])\n",
        "    Precision  = tp/(tp+fp)\n",
        "    Recall = tp/(tp+fn)\n",
        "    print(\"Precision: \",Precision,\"Recall: \",Recall)\n",
        "    f1score = (2*Precision*Recall)/(Precision+Recall)\n",
        "    print(\"f1score: \",f1score)\n",
        "    print(\"accuracy: \",(tp+tn)/results.shape[0])\n",
        "    print(\"hate_acc: \", (tp)/t)\n",
        "    print(\"non_hate_acc: \", (tn)/n)"
      ],
      "execution_count": null,
      "outputs": []
    },
    {
      "cell_type": "code",
      "metadata": {
        "trusted": true,
        "id": "pEMXsWUl6v-l",
        "colab_type": "code",
        "colab": {}
      },
      "source": [
        "predictions = model.predict(x_test)"
      ],
      "execution_count": null,
      "outputs": []
    },
    {
      "cell_type": "code",
      "metadata": {
        "trusted": true,
        "id": "t7shKeD36v-p",
        "colab_type": "code",
        "colab": {}
      },
      "source": [
        "results = []\n",
        "for prediction in predictions:\n",
        "    if prediction < 0.5:\n",
        "        results.append(0)\n",
        "    else:\n",
        "        results.append(1)\n",
        "        \n",
        "results = np.array(results)"
      ],
      "execution_count": null,
      "outputs": []
    },
    {
      "cell_type": "code",
      "metadata": {
        "trusted": true,
        "id": "zG3xsK4U6v-w",
        "colab_type": "code",
        "colab": {},
        "outputId": "4265b5e6-5c3c-411f-a149-56c664de54cf"
      },
      "source": [
        "cnfmatrix(y_test, results)\n"
      ],
      "execution_count": null,
      "outputs": [
        {
          "output_type": "stream",
          "text": [
            "0.035247645092677 0.019750835612275905\n",
            "0.03529105352259409 0.909710465772453\n",
            "Precision:  0.6408839779005525 Recall:  0.4996923076923077\n",
            "f1score:  0.5615491009681881\n",
            "accuracy:  0.94495811086513\n",
            "hate_acc:  0.4996923076923077\n",
            "non_hate_acc:  0.9787502335139174\n"
          ],
          "name": "stdout"
        }
      ]
    },
    {
      "cell_type": "code",
      "metadata": {
        "trusted": true,
        "id": "TP62UVTB6v-2",
        "colab_type": "code",
        "colab": {},
        "outputId": "5159a067-570d-43e3-f54d-1261a35ed9c7"
      },
      "source": [
        "import matplotlib.pyplot as plt\n",
        "acc = history.history['acc']\n",
        "val_acc = history.history['val_acc']\n",
        "loss = history.history['loss']\n",
        "val_loss = history.history['val_loss']\n",
        "epochs = range(1, len(acc) + 1)\n",
        "plt.plot(epochs, acc, 'bo', label='Training acc')\n",
        "plt.plot(epochs, val_acc, 'b', label='Validation acc')\n",
        "plt.title('Training and validation accuracy')\n",
        "plt.legend()\n",
        "plt.figure()\n",
        "plt.plot(epochs, loss, 'bo', label='Training loss')\n",
        "plt.plot(epochs, val_loss, 'b', label='Validation loss')\n",
        "plt.title('Training and validation loss')\n",
        "plt.legend()\n",
        "plt.show()"
      ],
      "execution_count": null,
      "outputs": [
        {
          "output_type": "display_data",
          "data": {
            "text/plain": [
              "<Figure size 432x288 with 1 Axes>"
            ],
            "image/png": "[encoded data removed]"
          },
          "metadata": {
            "tags": []
          }
        },
        {
          "output_type": "display_data",
          "data": {
            "text/plain": [
              "<Figure size 432x288 with 1 Axes>"
            ],
            "image/png": "[encoded data removed]"
          },
          "metadata": {
            "tags": []
          }
        }
      ]
    },
    {
      "cell_type": "code",
      "metadata": {
        "trusted": true,
        "id": "U4Eor7Yw6v-7",
        "colab_type": "code",
        "colab": {},
        "outputId": "edcb8af8-6313-4291-c98a-ed875036b1bb"
      },
      "source": [
        "def test(model):\n",
        "    f1_score = lambda precision, recall: 2 * ((precision * recall) / (precision + recall))\n",
        "    nexamples, recall, precision = model.test('fasttext.test')\n",
        "    print (f'recall: {recall}' )\n",
        "    print (f'precision: {precision}')\n",
        "    print (f'f1 score: {f1_score(precision,recall)}')\n",
        "    print (f'number of examples: {nexamples}')\n",
        "print(1)"
      ],
      "execution_count": null,
      "outputs": [
        {
          "output_type": "stream",
          "text": [
            "1\n"
          ],
          "name": "stdout"
        }
      ]
    },
    {
      "cell_type": "code",
      "metadata": {
        "trusted": true,
        "id": "krOjG8py6v_A",
        "colab_type": "code",
        "colab": {}
      },
      "source": [
        "#model.compile(optimizer='rmsprop', loss='binary_crossentropy', metrics=['acc'])#\n",
        "#history = model.fit(x_train,y_train,epochs=20,batch_size=512,validation_data=(x_val,y_val))"
      ],
      "execution_count": null,
      "outputs": []
    },
    {
      "cell_type": "markdown",
      "metadata": {
        "_uuid": "7b4a8749bc8f8d6624e2c41a710df454aff0f611",
        "id": "OMRNfvNn6v_E",
        "colab_type": "text"
      },
      "source": [
        "#### Frequent words\n",
        "Now let's see what words and hashtags are the most frequenst in hate tweets and in total."
      ]
    },
    {
      "cell_type": "code",
      "metadata": {
        "trusted": true,
        "id": "1C7-RlyZ6v_F",
        "colab_type": "code",
        "colab": {}
      },
      "source": [
        ""
      ],
      "execution_count": null,
      "outputs": []
    },
    {
      "cell_type": "code",
      "metadata": {
        "trusted": true,
        "_uuid": "b8a9afebbffcfb27e6267ef5227ee6032250db48",
        "id": "P8vCjTx36v_K",
        "colab_type": "code",
        "colab": {}
      },
      "source": [
        "##from wordcloud import WordCloud, STOPWORDS\n",
        "##stopwords = STOPWORDS.add('amp')\n",
        "##traindata = ['tweet', 'label']\n",
        "##all_words = ' '.join('tweet', 'label')\n",
        "##hatred_words = ' '.join(data[data.label == 1].tweet.values)\n",
        "\n",
        "##plt.figure(figsize=(16, 8))\n",
        "\n",
        "##cloud1 = WordCloud(width=400, height=400, background_color='white', stopwords=stopwords).generate(all_words)\n",
        "##plt.subplot(121)\n",
        "##plt.imshow(cloud1, interpolation=\"bilinear\")\n",
        "#plt.axis(\"off\")\n",
        "#plt.title('All tweets', size=20)\n",
        "\n",
        "##cloud2 = WordCloud(width=400, height=400, background_color='white', stopwords=stopwords).generate(hatred_words)\n",
        "##plt.subplot(122)\n",
        "##plt.imshow(cloud2, interpolation=\"bilinear\")\n",
        "##plt.axis(\"off\")\n",
        "##plt.title('Hatred tweets', size=20)\n",
        "##plt.show()"
      ],
      "execution_count": null,
      "outputs": []
    },
    {
      "cell_type": "markdown",
      "metadata": {
        "_uuid": "ea2d98b94c65d8694ed867c45289a9be6adc6cee",
        "id": "pT5xQ-l46v_P",
        "colab_type": "text"
      },
      "source": [
        "#### Hashtags\n",
        "Now let's see which hashtags are used the most in hatred tweets and in total."
      ]
    },
    {
      "cell_type": "code",
      "metadata": {
        "trusted": true,
        "_uuid": "a40bfb2f3306029a02ab2bd66ede4cfc78a11b36",
        "id": "JRGD1e8N6v_Q",
        "colab_type": "code",
        "colab": {}
      },
      "source": [
        "##all_hashtags = FreqDist(list(' '.join(data.hashtags.values).split())).most_common(10)\n",
        "##hatred_hashtags = FreqDist(list(' '.join(data[data.label==1].hashtags.values).split())).most_common(10)\n",
        "##plt.figure(figsize=(14, 6))\n",
        "##ax = plt.subplot(121)\n",
        "##pd.DataFrame(all_hashtags, columns=['hashtag', 'Count']).set_index('hashtag').plot.barh(ax=ax, fontsize=12)\n",
        "##plt.xlabel('# occurrences')\n",
        "##plt.title('Hashtags in all tweets', size=13)\n",
        "##ax = plt.subplot(122)\n",
        "##pd.DataFrame(hatred_hashtags, columns=['hashtag', 'Count']).set_index('hashtag').plot.barh(ax=ax, fontsize=12)\n",
        "##plt.xlabel('# occurrences')\n",
        "##plt.ylabel('')\n",
        "##plt.title('Hashtags in hatred tweets', size=13)\n",
        "##plt.show()"
      ],
      "execution_count": null,
      "outputs": []
    },
    {
      "cell_type": "markdown",
      "metadata": {
        "_uuid": "bded2c905bb43ad971c7758a40ebac58f45a5df7",
        "id": "3sQg-TEh6v_V",
        "colab_type": "text"
      },
      "source": [
        "#### Mentions\n",
        "Let's see how many mentions are there in total and if they can be of any use"
      ]
    },
    {
      "cell_type": "code",
      "metadata": {
        "trusted": true,
        "_uuid": "35a5534cf0cd55ea9d1a2f9b3cf6cd2bf883850d",
        "id": "vk0yQYc66v_W",
        "colab_type": "code",
        "colab": {}
      },
      "source": [
        "##print(\"Number of mentions: {}\\nNumber of tweets having a mention: {}\\nCorrelation with label: {}\".format(\n",
        "##    data.mentions.sum(),\n",
        "##    len(data[data.mentions > 0]),\n",
        "##    np.corrcoef(data.mentions, data.label)[0][1]\n",
        "##))"
      ],
      "execution_count": null,
      "outputs": []
    },
    {
      "cell_type": "markdown",
      "metadata": {
        "_uuid": "b025142fbec15c1b20a20b7d4f23efd491b697bf",
        "id": "i_NhEJCP6v_d",
        "colab_type": "text"
      },
      "source": [
        "There is no meaningful relation between number of mentions and it looks like there is not a correlation either. So we'll remove number of mentions and won't use it as a feature.  "
      ]
    },
    {
      "cell_type": "code",
      "metadata": {
        "trusted": true,
        "_uuid": "b0b1d3f2d665e1224cf5f863846bd4b50aede99d",
        "id": "Zs1RPM3Z6v_e",
        "colab_type": "code",
        "colab": {}
      },
      "source": [
        "##data.drop('mentions', axis=1, inplace=True)"
      ],
      "execution_count": null,
      "outputs": []
    },
    {
      "cell_type": "markdown",
      "metadata": {
        "_uuid": "4a5d7e7cf2868b0f311f4a95f8439427d2e08a5f",
        "id": "Scnbz7Hf6v_j",
        "colab_type": "text"
      },
      "source": [
        "#### Tfidf vectorizing\n",
        "Now we use the frequency of each word in tweets as our features"
      ]
    },
    {
      "cell_type": "code",
      "metadata": {
        "trusted": true,
        "_uuid": "ae7203862ad3b6df4ab284c408344c5a7b131915",
        "id": "fnhEQn1s6v_k",
        "colab_type": "code",
        "colab": {}
      },
      "source": [
        "##from sklearn.feature_extraction.text import TfidfVectorizer\n",
        "##from nltk.corpus import stopwords\n",
        "\n",
        "##vectorizer = TfidfVectorizer(stop_words=stopwords.words('english'), ngram_range=(1, 3), min_df=10)\n",
        "##features = vectorizer.fit_transform(data.tweet)"
      ],
      "execution_count": null,
      "outputs": []
    },
    {
      "cell_type": "markdown",
      "metadata": {
        "_uuid": "82037d5250db29273352848200420258d08fbc27",
        "id": "eadRs0J06v_o",
        "colab_type": "text"
      },
      "source": [
        "## Classifying\n",
        "We'll build a SVC and a LogsiticRegression model for classifying our tweets."
      ]
    },
    {
      "cell_type": "code",
      "metadata": {
        "trusted": true,
        "_uuid": "67b4be23a8922ca538c2d5d112ee28222d64a791",
        "id": "pq_y8I8o6v_p",
        "colab_type": "code",
        "colab": {}
      },
      "source": [
        "##from sklearn.linear_model import LogisticRegression\n",
        "##from sklearn.svm import SVC\n",
        "##from sklearn.model_selection import train_test_split, GridSearchCV\n",
        "##from sklearn.metrics import f1_score\n",
        "\n",
        "##x_train, x_test, y_train, y_test = train_test_split(features, data.label)"
      ],
      "execution_count": null,
      "outputs": []
    },
    {
      "cell_type": "markdown",
      "metadata": {
        "_uuid": "fd5b362a478fb22fb210d7e49d13dc3b92ff92b0",
        "id": "oR5TmH4L6v_w",
        "colab_type": "text"
      },
      "source": [
        "#### Logistic Regression"
      ]
    },
    {
      "cell_type": "code",
      "metadata": {
        "trusted": true,
        "_uuid": "e510254d2bca194b3337cdf44fee12488b86a31e",
        "id": "I2iC1V_v6v_x",
        "colab_type": "code",
        "colab": {}
      },
      "source": [
        "##params = {'penalty': ['l1', 'l2'], 'C': [3, 10, 30, 100, 300]}\n",
        "##lrmodel = GridSearchCV(LogisticRegression(solver='liblinear', max_iter=150), param_grid=params, scoring='f1', cv=5, n_jobs=-1)\n",
        "##lrmodel.fit(X_train, y_train)\n",
        "##print(\"Best parameters found were {} with F1 score of {:.2f}\".format(\n",
        "##    lrmodel.best_params_,\n",
        "##    lrmodel.best_score_\n",
        "##))\n",
        "##probas = lrmodel.predict_proba(X_test)\n",
        "##thresholds = np.arange(0.1, 0.9, 0.1)\n",
        "##scores = [f1_score(y_test, (probas[:, 1] >= x).astype(int)) for x in thresholds]\n",
        "##plt.plot(thresholds, scores, 'o-')\n",
        "##plt.title(\"F1 score for different thresholds\")\n",
        "##plt.ylabel(\"Score\")\n",
        "##plt.xlabel(\"Threshold\")\n",
        "##plt.show()"
      ],
      "execution_count": null,
      "outputs": []
    },
    {
      "cell_type": "markdown",
      "metadata": {
        "_uuid": "5558cbefcd6a4669c9075af747106f40dec0a3fd",
        "id": "zLFi2JZW6v_2",
        "colab_type": "text"
      },
      "source": [
        "Best threshold found for our model is 0.4 so we will label any tweet with probability higher than or equal to 0.4 as hate tweet."
      ]
    },
    {
      "cell_type": "markdown",
      "metadata": {
        "_uuid": "0fec9711d4bd0735351c959d22b6bee713ff4bcf",
        "id": "lGhuR-MS6v_2",
        "colab_type": "text"
      },
      "source": [
        "#### SVC"
      ]
    },
    {
      "cell_type": "code",
      "metadata": {
        "trusted": true,
        "scrolled": true,
        "_uuid": "0c1f38beac5ac8a1602664210a37ccb085b5776b",
        "id": "F-XPsRaa6v_3",
        "colab_type": "code",
        "colab": {}
      },
      "source": [
        "##params = {'C': [1000, 3000, 9000, 15000]}\n",
        "##svc = GridSearchCV(SVC(kernel='rbf', gamma='auto'), param_grid=params, scoring='f1', cv=3, n_jobs=-1)\n",
        "##svc.fit(X_train, y_train)\n",
        "##print(\"Best parameters found were {} with F1 score of {:.2f}\".format(\n",
        "##    svc.best_params_,\n",
        "##    svc.best_score_\n",
        "##))\n",
        "##predictions = svc.predict(X_test)\n",
        "##print(\"\\nF1 test score for SVC: {:.2f}\".format(f1_score(y_test, predictions)))"
      ],
      "execution_count": null,
      "outputs": []
    },
    {
      "cell_type": "markdown",
      "metadata": {
        "_uuid": "e24de80a704fe48188f6206888a49337faa59a28",
        "id": "xFu-eUml6v_6",
        "colab_type": "text"
      },
      "source": [
        "## Conclusion\n",
        "We saw some of the most common words and hashtags in general and in racist/sexist tweets, extracted features by counting word tokens and Tfidf weighting them. We used unigrams, bigrams and trigrams as tokens.   \n",
        "Finally, we built a logistic regression model and a support vector classifier to classify future tweets in these 2 classes.  "
      ]
    }
  ]
}