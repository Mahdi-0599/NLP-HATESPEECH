{
  "nbformat": 4,
  "nbformat_minor": 0,
  "metadata": {
    "kernelspec": {
      "display_name": "Python 3",
      "language": "python",
      "name": "python3"
    },
    "language_info": {
      "codemirror_mode": {
        "name": "ipython",
        "version": 3
      },
      "file_extension": ".py",
      "mimetype": "text/x-python",
      "name": "python",
      "nbconvert_exporter": "python",
      "pygments_lexer": "ipython3",
      "version": "3.7.6"
    },
    "papermill": {
      "duration": 9491.233459,
      "end_time": "2020-09-21T02:46:34.702137",
      "environment_variables": {},
      "exception": null,
      "input_path": "__notebook__.ipynb",
      "output_path": "__notebook__.ipynb",
      "parameters": {},
      "start_time": "2020-09-21T00:08:23.468678",
      "version": "2.1.0"
    },
    "colab": {
      "name": "model-cnn-hatespeech-french.ipynb",
      "provenance": [],
      "include_colab_link": true
    }
  },
  "cells": [
    {
      "cell_type": "markdown",
      "metadata": {
        "id": "view-in-github",
        "colab_type": "text"
      },
      "source": [
        "<a href=\"https://colab.research.google.com/github/Mahdi-0599/NLP-HATESPEECH/blob/master/model_cnn_hatespeech_french.ipynb\" target=\"_parent\"><img src=\"https://colab.research.google.com/assets/colab-badge.svg\" alt=\"Open In Colab\"/></a>"
      ]
    },
    {
      "cell_type": "markdown",
      "metadata": {
        "_uuid": "e78c15c05b99a04ec5b4468299c8308041255bd0",
        "papermill": {
          "duration": 0.020298,
          "end_time": "2020-09-21T00:08:28.849493",
          "exception": false,
          "start_time": "2020-09-21T00:08:28.829195",
          "status": "completed"
        },
        "tags": [],
        "id": "vROjfp_v4CSg",
        "colab_type": "text"
      },
      "source": [
        "## Description\n",
        "Dataset contains nearly 32K tweets which are labeled based on having racist or sexist content. We are going to analyse this dataset and tweets, and by the end, create a classification model to classify tweets.   \n",
        "Each row in the dataset has 3 columns:\n",
        "* `id`: Assigned ID to this tweet by Analytics Vidhya.\n",
        "* `label`: Tweet label, 1 if tweet has hatred content and 0 otherwise.\n",
        "* `tweet`: Tweet text.  \n",
        "\n",
        "Dataset is provided by [Analytics Vidhya](http://https://datahack.analyticsvidhya.com/contest/practice-problem-twitter-sentiment-analysis/)  "
      ]
    },
    {
      "cell_type": "code",
      "metadata": {
        "_cell_guid": "b1076dfc-b9ad-4769-8c92-a6c4dae69d19",
        "_kg_hide-output": true,
        "_uuid": "8f2839f25d086af736a60e9eeb907d3b93b6e0e5",
        "execution": {
          "iopub.execute_input": "2020-09-21T00:08:28.895425Z",
          "iopub.status.busy": "2020-09-21T00:08:28.894643Z",
          "iopub.status.idle": "2020-09-21T00:08:34.111846Z",
          "shell.execute_reply": "2020-09-21T00:08:34.111038Z"
        },
        "papermill": {
          "duration": 5.243527,
          "end_time": "2020-09-21T00:08:34.111989",
          "exception": false,
          "start_time": "2020-09-21T00:08:28.868462",
          "status": "completed"
        },
        "tags": [],
        "id": "vfjXv1-v4CSi",
        "colab_type": "code",
        "colab": {},
        "outputId": "578d8d38-0929-4c03-eef2-5153017f451a"
      },
      "source": [
        "import numpy as np\n",
        "import pandas as pd\n",
        "import nltk\n",
        "from wordcloud import WordCloud\n",
        "import matplotlib.pyplot as plt\n",
        "plt.style.use('ggplot')\n",
        "import seaborn as sns\n",
        "from sklearn.feature_extraction.text import CountVectorizer, TfidfVectorizer\n",
        "\n",
        "data = pd.read_csv('../input/french-tweets/french_tweets.csv')\n",
        "data.head()"
      ],
      "execution_count": null,
      "outputs": [
        {
          "output_type": "execute_result",
          "data": {
            "text/html": [
              "<div>\n",
              "<style scoped>\n",
              "    .dataframe tbody tr th:only-of-type {\n",
              "        vertical-align: middle;\n",
              "    }\n",
              "\n",
              "    .dataframe tbody tr th {\n",
              "        vertical-align: top;\n",
              "    }\n",
              "\n",
              "    .dataframe thead th {\n",
              "        text-align: right;\n",
              "    }\n",
              "</style>\n",
              "<table border=\"1\" class=\"dataframe\">\n",
              "  <thead>\n",
              "    <tr style=\"text-align: right;\">\n",
              "      <th></th>\n",
              "      <th>label</th>\n",
              "      <th>text</th>\n",
              "    </tr>\n",
              "  </thead>\n",
              "  <tbody>\n",
              "    <tr>\n",
              "      <th>0</th>\n",
              "      <td>0</td>\n",
              "      <td>- Awww, c'est un bummer. Tu devrais avoir davi...</td>\n",
              "    </tr>\n",
              "    <tr>\n",
              "      <th>1</th>\n",
              "      <td>0</td>\n",
              "      <td>Est contrarié qu'il ne puisse pas mettre à jou...</td>\n",
              "    </tr>\n",
              "    <tr>\n",
              "      <th>2</th>\n",
              "      <td>0</td>\n",
              "      <td>J'ai plongé plusieurs fois pour la balle. A ré...</td>\n",
              "    </tr>\n",
              "    <tr>\n",
              "      <th>3</th>\n",
              "      <td>0</td>\n",
              "      <td>Tout mon corps a des démangeaisons et comme si...</td>\n",
              "    </tr>\n",
              "    <tr>\n",
              "      <th>4</th>\n",
              "      <td>0</td>\n",
              "      <td>Non, il ne se comporte pas du tout. je suis en...</td>\n",
              "    </tr>\n",
              "  </tbody>\n",
              "</table>\n",
              "</div>"
            ],
            "text/plain": [
              "   label                                               text\n",
              "0      0  - Awww, c'est un bummer. Tu devrais avoir davi...\n",
              "1      0  Est contrarié qu'il ne puisse pas mettre à jou...\n",
              "2      0  J'ai plongé plusieurs fois pour la balle. A ré...\n",
              "3      0  Tout mon corps a des démangeaisons et comme si...\n",
              "4      0  Non, il ne se comporte pas du tout. je suis en..."
            ]
          },
          "metadata": {
            "tags": []
          },
          "execution_count": 1
        }
      ]
    },
    {
      "cell_type": "code",
      "metadata": {
        "execution": {
          "iopub.execute_input": "2020-09-21T00:08:34.161469Z",
          "iopub.status.busy": "2020-09-21T00:08:34.160616Z",
          "iopub.status.idle": "2020-09-21T00:08:34.165223Z",
          "shell.execute_reply": "2020-09-21T00:08:34.164714Z"
        },
        "papermill": {
          "duration": 0.033696,
          "end_time": "2020-09-21T00:08:34.165335",
          "exception": false,
          "start_time": "2020-09-21T00:08:34.131639",
          "status": "completed"
        },
        "tags": [],
        "id": "bXj8kbrk4CSw",
        "colab_type": "code",
        "colab": {},
        "outputId": "ee720ad2-1b6d-4e5b-e6b8-cbd692b128d2"
      },
      "source": [
        "data.columns=['label','tweet']\n",
        "data.head()"
      ],
      "execution_count": null,
      "outputs": [
        {
          "output_type": "execute_result",
          "data": {
            "text/html": [
              "<div>\n",
              "<style scoped>\n",
              "    .dataframe tbody tr th:only-of-type {\n",
              "        vertical-align: middle;\n",
              "    }\n",
              "\n",
              "    .dataframe tbody tr th {\n",
              "        vertical-align: top;\n",
              "    }\n",
              "\n",
              "    .dataframe thead th {\n",
              "        text-align: right;\n",
              "    }\n",
              "</style>\n",
              "<table border=\"1\" class=\"dataframe\">\n",
              "  <thead>\n",
              "    <tr style=\"text-align: right;\">\n",
              "      <th></th>\n",
              "      <th>label</th>\n",
              "      <th>tweet</th>\n",
              "    </tr>\n",
              "  </thead>\n",
              "  <tbody>\n",
              "    <tr>\n",
              "      <th>0</th>\n",
              "      <td>0</td>\n",
              "      <td>- Awww, c'est un bummer. Tu devrais avoir davi...</td>\n",
              "    </tr>\n",
              "    <tr>\n",
              "      <th>1</th>\n",
              "      <td>0</td>\n",
              "      <td>Est contrarié qu'il ne puisse pas mettre à jou...</td>\n",
              "    </tr>\n",
              "    <tr>\n",
              "      <th>2</th>\n",
              "      <td>0</td>\n",
              "      <td>J'ai plongé plusieurs fois pour la balle. A ré...</td>\n",
              "    </tr>\n",
              "    <tr>\n",
              "      <th>3</th>\n",
              "      <td>0</td>\n",
              "      <td>Tout mon corps a des démangeaisons et comme si...</td>\n",
              "    </tr>\n",
              "    <tr>\n",
              "      <th>4</th>\n",
              "      <td>0</td>\n",
              "      <td>Non, il ne se comporte pas du tout. je suis en...</td>\n",
              "    </tr>\n",
              "  </tbody>\n",
              "</table>\n",
              "</div>"
            ],
            "text/plain": [
              "   label                                              tweet\n",
              "0      0  - Awww, c'est un bummer. Tu devrais avoir davi...\n",
              "1      0  Est contrarié qu'il ne puisse pas mettre à jou...\n",
              "2      0  J'ai plongé plusieurs fois pour la balle. A ré...\n",
              "3      0  Tout mon corps a des démangeaisons et comme si...\n",
              "4      0  Non, il ne se comporte pas du tout. je suis en..."
            ]
          },
          "metadata": {
            "tags": []
          },
          "execution_count": 2
        }
      ]
    },
    {
      "cell_type": "markdown",
      "metadata": {
        "_cell_guid": "79c7e3d0-c299-4dcb-8224-4455121ee9b0",
        "_uuid": "d629ff2d2480ee46fbb7e2d37f6b5fab8052498a",
        "collapsed": true,
        "papermill": {
          "duration": 0.019317,
          "end_time": "2020-09-21T00:08:34.206061",
          "exception": false,
          "start_time": "2020-09-21T00:08:34.186744",
          "status": "completed"
        },
        "tags": [],
        "id": "YXoduS5X4CS5",
        "colab_type": "text"
      },
      "source": [
        "How are tweets spread among these 2 classes?"
      ]
    },
    {
      "cell_type": "code",
      "metadata": {
        "execution": {
          "iopub.execute_input": "2020-09-21T00:08:34.254769Z",
          "iopub.status.busy": "2020-09-21T00:08:34.254030Z",
          "iopub.status.idle": "2020-09-21T00:08:34.258417Z",
          "shell.execute_reply": "2020-09-21T00:08:34.258948Z"
        },
        "papermill": {
          "duration": 0.033399,
          "end_time": "2020-09-21T00:08:34.259094",
          "exception": false,
          "start_time": "2020-09-21T00:08:34.225695",
          "status": "completed"
        },
        "tags": [],
        "id": "pags4zdU4CS8",
        "colab_type": "code",
        "colab": {},
        "outputId": "a9a0cf84-2bf3-4427-dcd2-45a9cd6aed41"
      },
      "source": [
        "def eval_fun(labels, preds):\n",
        "    labels = label.split(' ')\n",
        "    preds = tweet.split(' ')\n",
        "    rr = (np.intersect1d(label, tweet))\n",
        "    precision = np.float(len(rr)) / len(tweet)\n",
        "    recall = np.float(len(rr)) / len(label)\n",
        "    try:\n",
        "        f1 = 2 * precision * recall / (precision + recall)\n",
        "    except ZeroDivisionError:\n",
        "        return (precision, recall, 0.0)\n",
        "    return (precision, recall, f1)\n",
        "print(1)"
      ],
      "execution_count": null,
      "outputs": [
        {
          "output_type": "stream",
          "text": [
            "1\n"
          ],
          "name": "stdout"
        }
      ]
    },
    {
      "cell_type": "code",
      "metadata": {
        "_uuid": "62127fadccac984b3e5e5dcaad931f176f40a480",
        "execution": {
          "iopub.execute_input": "2020-09-21T00:08:34.309350Z",
          "iopub.status.busy": "2020-09-21T00:08:34.308707Z",
          "iopub.status.idle": "2020-09-21T00:08:34.321353Z",
          "shell.execute_reply": "2020-09-21T00:08:34.322042Z"
        },
        "papermill": {
          "duration": 0.042855,
          "end_time": "2020-09-21T00:08:34.322277",
          "exception": false,
          "start_time": "2020-09-21T00:08:34.279422",
          "status": "completed"
        },
        "tags": [],
        "id": "tLHUYMc84CTG",
        "colab_type": "code",
        "colab": {},
        "outputId": "ec0e40d7-9f25-4b99-c42f-74e9398db3fa"
      },
      "source": [
        "import numpy as np\n",
        "print(\"Hatred labeled: {}\\nNon-hatred labeled: {}\".format(\n",
        "    (data.label == 1).sum(),\n",
        "    (data.label == 0).sum()\n",
        "))"
      ],
      "execution_count": null,
      "outputs": [
        {
          "output_type": "stream",
          "text": [
            "Hatred labeled: 755120\n",
            "Non-hatred labeled: 771604\n"
          ],
          "name": "stdout"
        }
      ]
    },
    {
      "cell_type": "markdown",
      "metadata": {
        "_uuid": "92839e8dbabe53008a1c73f8c708fd7e675bbe03",
        "papermill": {
          "duration": 0.020105,
          "end_time": "2020-09-21T00:08:34.363181",
          "exception": false,
          "start_time": "2020-09-21T00:08:34.343076",
          "status": "completed"
        },
        "tags": [],
        "id": "9p5uYOL14CTP",
        "colab_type": "text"
      },
      "source": [
        "> ## Extracting features\n",
        "\n",
        "#### Hashtags and mentions\n",
        "We'll extract hashtags for each tweet as an extra column to explore them later.   \n",
        "For user mentions, all of the usernames have been replaced with `'user'` so we can't get any data from it, we'll just remove mentions and keep the number of mentions in each tweet as an extra features for that tweet.  "
      ]
    },
    {
      "cell_type": "code",
      "metadata": {
        "_uuid": "6e31e542112433b66ca725da19b647da4c71585f",
        "execution": {
          "iopub.execute_input": "2020-09-21T00:08:34.588504Z",
          "iopub.status.busy": "2020-09-21T00:08:34.587839Z",
          "iopub.status.idle": "2020-09-21T00:08:40.246875Z",
          "shell.execute_reply": "2020-09-21T00:08:40.246139Z"
        },
        "papermill": {
          "duration": 5.862633,
          "end_time": "2020-09-21T00:08:40.246998",
          "exception": false,
          "start_time": "2020-09-21T00:08:34.384365",
          "status": "completed"
        },
        "tags": [],
        "id": "bVMVtQUh4CTR",
        "colab_type": "code",
        "colab": {}
      },
      "source": [
        "hashtags = data['tweet'].str.extractall('#(?P<hashtag>[a-zA-Z0-9_]+)').reset_index().groupby('level_0').agg(lambda x: ' '.join(x.values))\n",
        "data.loc[:, 'hashtags'] = hashtags['hashtag']\n",
        "data['hashtags'].fillna('', inplace=True)\n",
        "\n",
        "data.loc[:, 'mentions'] = data['tweet'].str.count('@[a-zA-Z0-9_]+')\n",
        "\n",
        "data.tweet = data.tweet.str.replace('@[a-zA-Z0-9_]+', '')"
      ],
      "execution_count": null,
      "outputs": []
    },
    {
      "cell_type": "markdown",
      "metadata": {
        "_uuid": "ed53500474e96d939cdc5fc6c10a91b5a2dfc198",
        "papermill": {
          "duration": 0.020891,
          "end_time": "2020-09-21T00:08:40.288749",
          "exception": false,
          "start_time": "2020-09-21T00:08:40.267858",
          "status": "completed"
        },
        "tags": [],
        "id": "cV8T8Zkd4CTZ",
        "colab_type": "text"
      },
      "source": [
        "#### Removing anything but the words\n",
        "Now we'll remove anything but the words (punctuations, numbers, etc). Note that this time we'll replace them with a blank space since it might be a `_` or `-` or a punctuation with no space from the next word and we don't want the words to join together.  "
      ]
    },
    {
      "cell_type": "code",
      "metadata": {
        "_uuid": "0c62abb7ca3a8a806221ed3cae8a3d9e69faf0aa",
        "execution": {
          "iopub.execute_input": "2020-09-21T00:08:40.508841Z",
          "iopub.status.busy": "2020-09-21T00:08:40.508080Z",
          "iopub.status.idle": "2020-09-21T00:08:55.784645Z",
          "shell.execute_reply": "2020-09-21T00:08:55.783864Z"
        },
        "papermill": {
          "duration": 15.474676,
          "end_time": "2020-09-21T00:08:55.784790",
          "exception": false,
          "start_time": "2020-09-21T00:08:40.310114",
          "status": "completed"
        },
        "tags": [],
        "id": "eOYQYMrV4CTb",
        "colab_type": "code",
        "colab": {}
      },
      "source": [
        "data.tweet = data.tweet.str.replace('[^a-zA-Z]', ' ')"
      ],
      "execution_count": null,
      "outputs": []
    },
    {
      "cell_type": "markdown",
      "metadata": {
        "_uuid": "996dfe01552929c9fba1db37f66f822dda269984",
        "papermill": {
          "duration": 0.020415,
          "end_time": "2020-09-21T00:08:55.826304",
          "exception": false,
          "start_time": "2020-09-21T00:08:55.805889",
          "status": "completed"
        },
        "tags": [],
        "id": "6Nlu-leB4CTo",
        "colab_type": "text"
      },
      "source": [
        "#### Lemmatization\n",
        "We lemmatize tweets' words as we have the sentences and we can tag part of speeches, and will stem hashtags.  "
      ]
    },
    {
      "cell_type": "markdown",
      "metadata": {
        "papermill": {
          "duration": 0.020474,
          "end_time": "2020-09-21T00:08:55.867412",
          "exception": false,
          "start_time": "2020-09-21T00:08:55.846938",
          "status": "completed"
        },
        "tags": [],
        "id": "IAeKgpaM4CTq",
        "colab_type": "text"
      },
      "source": [
        ""
      ]
    },
    {
      "cell_type": "code",
      "metadata": {
        "_uuid": "d2786200ecbb879dc9fd3e34d8766bc098cf6ad4",
        "execution": {
          "iopub.execute_input": "2020-09-21T00:08:55.922014Z",
          "iopub.status.busy": "2020-09-21T00:08:55.921239Z",
          "iopub.status.idle": "2020-09-21T00:08:57.032309Z",
          "shell.execute_reply": "2020-09-21T00:08:57.031576Z"
        },
        "papermill": {
          "duration": 1.14424,
          "end_time": "2020-09-21T00:08:57.032439",
          "exception": false,
          "start_time": "2020-09-21T00:08:55.888199",
          "status": "completed"
        },
        "tags": [],
        "id": "WKfpJcmH4CTs",
        "colab_type": "code",
        "colab": {}
      },
      "source": [
        "from nltk.stem.snowball import SnowballStemmer\n",
        "from nltk.stem import WordNetLemmatizer\n",
        "from nltk.corpus import wordnet\n",
        "from nltk import pos_tag, FreqDist, word_tokenize\n",
        "\n",
        "stemmer = SnowballStemmer('english')\n",
        "lemmer = WordNetLemmatizer()\n",
        "\n",
        "part = {\n",
        "    'N' : 'n',\n",
        "    'V' : 'v',\n",
        "    'J' : 'a',\n",
        "    'S' : 's',\n",
        "    'R' : 'r'\n",
        "}\n",
        "\n",
        "def convert_tag(penn_tag):\n",
        "    if penn_tag in part.keys():\n",
        "        return part[penn_tag]\n",
        "    else:\n",
        "        return 'n'\n",
        "def tag_and_lem(element):\n",
        "    sent = pos_tag(word_tokenize(element))\n",
        "    return ' '.join([lemmer.lemmatize(sent[k][0], convert_tag(sent[k][1][0]))\n",
        "                    for k in range(len(sent))])\n",
        "\n",
        "#data.loc[:, 'tweet'] = data['tweet'].apply(lambda x: tag_and_lem(x))\n",
        "data.loc[:, 'hashtags'] = data['hashtags'].apply(lambda x: ' '.join([stemmer.stem(word) for word in x.split()]))\n"
      ],
      "execution_count": null,
      "outputs": []
    },
    {
      "cell_type": "markdown",
      "metadata": {
        "papermill": {
          "duration": 0.020526,
          "end_time": "2020-09-21T00:08:57.073885",
          "exception": false,
          "start_time": "2020-09-21T00:08:57.053359",
          "status": "completed"
        },
        "tags": [],
        "id": "zrO90sON4CT4",
        "colab_type": "text"
      },
      "source": [
        "bild model cnn"
      ]
    },
    {
      "cell_type": "code",
      "metadata": {
        "execution": {
          "iopub.execute_input": "2020-09-21T00:08:57.121562Z",
          "iopub.status.busy": "2020-09-21T00:08:57.120795Z",
          "iopub.status.idle": "2020-09-21T00:08:57.154138Z",
          "shell.execute_reply": "2020-09-21T00:08:57.153320Z"
        },
        "papermill": {
          "duration": 0.059453,
          "end_time": "2020-09-21T00:08:57.154258",
          "exception": false,
          "start_time": "2020-09-21T00:08:57.094805",
          "status": "completed"
        },
        "tags": [],
        "id": "tFJvaErj4CT6",
        "colab_type": "code",
        "colab": {}
      },
      "source": [
        "texts = np.array(data['tweet'])\n",
        "labels = np.array(data['label'])"
      ],
      "execution_count": null,
      "outputs": []
    },
    {
      "cell_type": "code",
      "metadata": {
        "execution": {
          "iopub.execute_input": "2020-09-21T00:08:57.204154Z",
          "iopub.status.busy": "2020-09-21T00:08:57.203417Z",
          "iopub.status.idle": "2020-09-21T00:08:57.283757Z",
          "shell.execute_reply": "2020-09-21T00:08:57.282995Z"
        },
        "papermill": {
          "duration": 0.107737,
          "end_time": "2020-09-21T00:08:57.283913",
          "exception": false,
          "start_time": "2020-09-21T00:08:57.176176",
          "status": "completed"
        },
        "tags": [],
        "id": "Xz0IKbcA4CUE",
        "colab_type": "code",
        "colab": {}
      },
      "source": [
        "from sklearn.preprocessing import LabelEncoder\n",
        "import numpy as np\n",
        "\n",
        "X = data.tweet\n",
        "Y = data.label\n",
        "le = LabelEncoder()\n",
        "Y = le.fit_transform(Y)\n",
        "Y = Y.reshape(-1,1)"
      ],
      "execution_count": null,
      "outputs": []
    },
    {
      "cell_type": "code",
      "metadata": {
        "execution": {
          "iopub.execute_input": "2020-09-21T00:08:57.339295Z",
          "iopub.status.busy": "2020-09-21T00:08:57.338098Z",
          "iopub.status.idle": "2020-09-21T00:08:57.800051Z",
          "shell.execute_reply": "2020-09-21T00:08:57.799331Z"
        },
        "papermill": {
          "duration": 0.492488,
          "end_time": "2020-09-21T00:08:57.800169",
          "exception": false,
          "start_time": "2020-09-21T00:08:57.307681",
          "status": "completed"
        },
        "tags": [],
        "id": "8xWkyJHw4CUP",
        "colab_type": "code",
        "colab": {}
      },
      "source": [
        "from sklearn.model_selection import train_test_split\n",
        "X_train,X_test,Y_train,Y_test = train_test_split(X,Y,test_size=0.30)"
      ],
      "execution_count": null,
      "outputs": []
    },
    {
      "cell_type": "code",
      "metadata": {
        "execution": {
          "iopub.execute_input": "2020-09-21T00:08:57.852658Z",
          "iopub.status.busy": "2020-09-21T00:08:57.851875Z",
          "iopub.status.idle": "2020-09-21T00:10:05.882862Z",
          "shell.execute_reply": "2020-09-21T00:10:05.883661Z"
        },
        "papermill": {
          "duration": 68.062068,
          "end_time": "2020-09-21T00:10:05.883859",
          "exception": false,
          "start_time": "2020-09-21T00:08:57.821791",
          "status": "completed"
        },
        "tags": [],
        "id": "hK9oJlea4CUa",
        "colab_type": "code",
        "colab": {},
        "outputId": "2b797573-8fc9-4a14-9b82-fee030ed40e1"
      },
      "source": [
        "import string\n",
        "import random\n",
        "from keras.preprocessing.text import Tokenizer\n",
        "from keras.preprocessing import sequence\n",
        "from keras.preprocessing.sequence import pad_sequences\n",
        "from keras.preprocessing.text import Tokenizer\n",
        "from keras.preprocessing.sequence import pad_sequences\n",
        "\n",
        "max_words = 1000\n",
        "max_len = 100\n",
        "samples = texts.shape[0]\n",
        "tokenizer = Tokenizer(num_words=max_words)\n",
        "tokenizer.fit_on_texts(X_train)\n",
        "sequences = tokenizer.texts_to_sequences(X_train)\n",
        "sequences_matrix = sequence.pad_sequences(sequences,maxlen=max_len)\n",
        "word_index = tokenizer.word_index\n",
        "print(data.shape)\n",
        "print(labels.shape)"
      ],
      "execution_count": null,
      "outputs": [
        {
          "output_type": "stream",
          "text": [
            "(1526724, 4)\n",
            "(1526724,)\n"
          ],
          "name": "stdout"
        }
      ]
    },
    {
      "cell_type": "code",
      "metadata": {
        "execution": {
          "iopub.execute_input": "2020-09-21T00:10:05.935140Z",
          "iopub.status.busy": "2020-09-21T00:10:05.934099Z",
          "iopub.status.idle": "2020-09-21T00:10:05.937976Z",
          "shell.execute_reply": "2020-09-21T00:10:05.937291Z"
        },
        "papermill": {
          "duration": 0.03077,
          "end_time": "2020-09-21T00:10:05.938096",
          "exception": false,
          "start_time": "2020-09-21T00:10:05.907326",
          "status": "completed"
        },
        "tags": [],
        "id": "kGyTcMgW4CUl",
        "colab_type": "code",
        "colab": {}
      },
      "source": [
        "#from sklearn.model_selection import train_test_split\n",
        "#x_train,x_test,y_train,y_test = train_test_split(X,Y,test_size=0.30)\n",
        "#print(x_train.shape)\n",
        "#print(x_val.shape)\n",
        "#print(x_test.shape)"
      ],
      "execution_count": null,
      "outputs": []
    },
    {
      "cell_type": "code",
      "metadata": {
        "execution": {
          "iopub.execute_input": "2020-09-21T00:10:05.997105Z",
          "iopub.status.busy": "2020-09-21T00:10:05.996100Z",
          "iopub.status.idle": "2020-09-21T00:10:05.999366Z",
          "shell.execute_reply": "2020-09-21T00:10:05.999996Z"
        },
        "papermill": {
          "duration": 0.039903,
          "end_time": "2020-09-21T00:10:06.000135",
          "exception": false,
          "start_time": "2020-09-21T00:10:05.960232",
          "status": "completed"
        },
        "tags": [],
        "id": "p8gmhDH14CUu",
        "colab_type": "code",
        "colab": {}
      },
      "source": [
        "#x_train = data[:7925]\n",
        "#y_train = labels[:7925]\n",
        "\n",
        "#x_val = data[7925:8925]\n",
        "#y_val = labels[7925:8925]\n",
        "\n",
        "#x_test = data[8925:]\n",
        "#y_test = labels[8925:]\n",
        "\n",
        "#print(x_train.shape)\n",
        "#print(x_val.shape)\n",
        "#print(x_test.shape)\n",
        "##\n",
        "\n",
        "\n"
      ],
      "execution_count": null,
      "outputs": []
    },
    {
      "cell_type": "code",
      "metadata": {
        "execution": {
          "iopub.execute_input": "2020-09-21T00:10:06.054047Z",
          "iopub.status.busy": "2020-09-21T00:10:06.053355Z",
          "iopub.status.idle": "2020-09-21T00:10:07.595902Z",
          "shell.execute_reply": "2020-09-21T00:10:07.595005Z"
        },
        "papermill": {
          "duration": 1.573155,
          "end_time": "2020-09-21T00:10:07.596086",
          "exception": false,
          "start_time": "2020-09-21T00:10:06.022931",
          "status": "completed"
        },
        "tags": [],
        "id": "lU43qiGB4CU4",
        "colab_type": "code",
        "colab": {},
        "outputId": "1cc2725f-2349-4a16-9928-8840dde49db4"
      },
      "source": [
        "from keras.models import Sequential\n",
        "from keras.layers import Dense, Embedding, SimpleRNN, LSTM, GRU, Bidirectional\n",
        "model = Sequential()\n",
        "model.add(Embedding(1+len(word_index), 16))\n",
        "model.add(Bidirectional(LSTM(32, dropout=0.2, recurrent_dropout=0.5, return_sequences=True)))\n",
        "model.add(Bidirectional(LSTM(32, dropout=0.2, recurrent_dropout=0.5)))\n",
        "model.add(Dense(1, activation='sigmoid'))\n",
        "model.summary()\n",
        "\n",
        "\n"
      ],
      "execution_count": null,
      "outputs": [
        {
          "output_type": "stream",
          "text": [
            "Model: \"sequential\"\n",
            "_________________________________________________________________\n",
            "Layer (type)                 Output Shape              Param #   \n",
            "=================================================================\n",
            "embedding (Embedding)        (None, None, 16)          2880192   \n",
            "_________________________________________________________________\n",
            "bidirectional (Bidirectional (None, None, 64)          12544     \n",
            "_________________________________________________________________\n",
            "bidirectional_1 (Bidirection (None, 64)                24832     \n",
            "_________________________________________________________________\n",
            "dense (Dense)                (None, 1)                 65        \n",
            "=================================================================\n",
            "Total params: 2,917,633\n",
            "Trainable params: 2,917,633\n",
            "Non-trainable params: 0\n",
            "_________________________________________________________________\n"
          ],
          "name": "stdout"
        }
      ]
    },
    {
      "cell_type": "code",
      "metadata": {
        "execution": {
          "iopub.execute_input": "2020-09-21T00:10:07.656860Z",
          "iopub.status.busy": "2020-09-21T00:10:07.655702Z",
          "iopub.status.idle": "2020-09-21T00:10:07.663822Z",
          "shell.execute_reply": "2020-09-21T00:10:07.663234Z"
        },
        "papermill": {
          "duration": 0.044951,
          "end_time": "2020-09-21T00:10:07.663945",
          "exception": false,
          "start_time": "2020-09-21T00:10:07.618994",
          "status": "completed"
        },
        "tags": [],
        "id": "-S_hkSrT4CVI",
        "colab_type": "code",
        "colab": {}
      },
      "source": [
        "model.compile(optimizer='adam', loss='binary_crossentropy', metrics=['accuracy'])\n"
      ],
      "execution_count": null,
      "outputs": []
    },
    {
      "cell_type": "code",
      "metadata": {
        "execution": {
          "iopub.execute_input": "2020-09-21T00:10:07.721900Z",
          "iopub.status.busy": "2020-09-21T00:10:07.720848Z",
          "iopub.status.idle": "2020-09-21T00:10:07.725175Z",
          "shell.execute_reply": "2020-09-21T00:10:07.724449Z"
        },
        "papermill": {
          "duration": 0.032813,
          "end_time": "2020-09-21T00:10:07.725307",
          "exception": false,
          "start_time": "2020-09-21T00:10:07.692494",
          "status": "completed"
        },
        "tags": [],
        "id": "FeBrrsCU4CVT",
        "colab_type": "code",
        "colab": {}
      },
      "source": [
        "from keras.callbacks import ModelCheckpoint, EarlyStopping"
      ],
      "execution_count": null,
      "outputs": []
    },
    {
      "cell_type": "code",
      "metadata": {
        "execution": {
          "iopub.execute_input": "2020-09-21T00:10:07.778982Z",
          "iopub.status.busy": "2020-09-21T00:10:07.778034Z",
          "iopub.status.idle": "2020-09-21T02:32:30.638020Z",
          "shell.execute_reply": "2020-09-21T02:32:30.638978Z"
        },
        "papermill": {
          "duration": 8542.890603,
          "end_time": "2020-09-21T02:32:30.639215",
          "exception": false,
          "start_time": "2020-09-21T00:10:07.748612",
          "status": "completed"
        },
        "tags": [],
        "id": "h4AmEftt4CVf",
        "colab_type": "code",
        "colab": {},
        "outputId": "ab514812-aa4f-4ef3-bfc6-0271d1b7f426"
      },
      "source": [
        "history = model.fit(sequences_matrix,Y_train,batch_size=512,epochs=10,\n",
        "          validation_split=0.2,callbacks=[EarlyStopping(monitor='val_loss',min_delta=0.0001)])"
      ],
      "execution_count": null,
      "outputs": [
        {
          "output_type": "stream",
          "text": [
            "Epoch 1/10\n",
            "1670/1670 [==============================] - 1699s 1s/step - loss: 0.5157 - accuracy: 0.7428 - val_loss: 0.4953 - val_accuracy: 0.7558\n",
            "Epoch 2/10\n",
            "1670/1670 [==============================] - 1701s 1s/step - loss: 0.4933 - accuracy: 0.7579 - val_loss: 0.4839 - val_accuracy: 0.7629\n",
            "Epoch 3/10\n",
            "1670/1670 [==============================] - 1713s 1s/step - loss: 0.4844 - accuracy: 0.7636 - val_loss: 0.4782 - val_accuracy: 0.7668\n",
            "Epoch 4/10\n",
            "1670/1670 [==============================] - 1704s 1s/step - loss: 0.4803 - accuracy: 0.7664 - val_loss: 0.4758 - val_accuracy: 0.7684\n",
            "Epoch 5/10\n",
            "1670/1670 [==============================] - 1701s 1s/step - loss: 0.4776 - accuracy: 0.7679 - val_loss: 0.4758 - val_accuracy: 0.7692\n"
          ],
          "name": "stdout"
        }
      ]
    },
    {
      "cell_type": "code",
      "metadata": {
        "execution": {
          "iopub.execute_input": "2020-09-21T02:32:36.401609Z",
          "iopub.status.busy": "2020-09-21T02:32:36.400567Z",
          "iopub.status.idle": "2020-09-21T02:32:50.657345Z",
          "shell.execute_reply": "2020-09-21T02:32:50.656742Z"
        },
        "papermill": {
          "duration": 17.111096,
          "end_time": "2020-09-21T02:32:50.657485",
          "exception": false,
          "start_time": "2020-09-21T02:32:33.546389",
          "status": "completed"
        },
        "tags": [],
        "id": "Vb4PNaJx4CVr",
        "colab_type": "code",
        "colab": {}
      },
      "source": [
        "test_sequences = tokenizer.texts_to_sequences(X_test)\n",
        "test_sequences_matrix = sequence.pad_sequences(test_sequences,maxlen=max_len)"
      ],
      "execution_count": null,
      "outputs": []
    },
    {
      "cell_type": "code",
      "metadata": {
        "execution": {
          "iopub.execute_input": "2020-09-21T02:32:56.581449Z",
          "iopub.status.busy": "2020-09-21T02:32:56.580703Z",
          "iopub.status.idle": "2020-09-21T02:45:28.807802Z",
          "shell.execute_reply": "2020-09-21T02:45:28.669584Z"
        },
        "papermill": {
          "duration": 755.328179,
          "end_time": "2020-09-21T02:45:28.807959",
          "exception": false,
          "start_time": "2020-09-21T02:32:53.479780",
          "status": "completed"
        },
        "tags": [],
        "id": "A5DdKKep4CV2",
        "colab_type": "code",
        "colab": {},
        "outputId": "2868bae6-82aa-40ea-9136-614e378ba253"
      },
      "source": [
        "accr = model.evaluate(test_sequences_matrix,Y_test)"
      ],
      "execution_count": null,
      "outputs": [
        {
          "output_type": "stream",
          "text": [
            "14314/14314 [==============================] - 751s 52ms/step - loss: 0.4764 - accuracy: 0.7695\n"
          ],
          "name": "stdout"
        }
      ]
    },
    {
      "cell_type": "code",
      "metadata": {
        "execution": {
          "iopub.execute_input": "2020-09-21T02:45:43.377125Z",
          "iopub.status.busy": "2020-09-21T02:45:43.376025Z",
          "iopub.status.idle": "2020-09-21T02:45:43.381947Z",
          "shell.execute_reply": "2020-09-21T02:45:43.381167Z"
        },
        "papermill": {
          "duration": 7.331939,
          "end_time": "2020-09-21T02:45:43.382092",
          "exception": false,
          "start_time": "2020-09-21T02:45:36.050153",
          "status": "completed"
        },
        "tags": [],
        "id": "WZsCFZtQ4CV-",
        "colab_type": "code",
        "colab": {},
        "outputId": "145eca3b-9771-4e19-c106-d29b62fea2a8"
      },
      "source": [
        "print('Test set\\n  Loss: {:0.3f}\\n  Accuracy: {:0.3f}'.format(accr[0],accr[1]))"
      ],
      "execution_count": null,
      "outputs": [
        {
          "output_type": "stream",
          "text": [
            "Test set\n",
            "  Loss: 0.476\n",
            "  Accuracy: 0.770\n"
          ],
          "name": "stdout"
        }
      ]
    },
    {
      "cell_type": "code",
      "metadata": {
        "execution": {
          "iopub.execute_input": "2020-09-21T02:45:57.646169Z",
          "iopub.status.busy": "2020-09-21T02:45:57.645397Z",
          "iopub.status.idle": "2020-09-21T02:45:57.648615Z",
          "shell.execute_reply": "2020-09-21T02:45:57.648049Z"
        },
        "papermill": {
          "duration": 7.234095,
          "end_time": "2020-09-21T02:45:57.648748",
          "exception": false,
          "start_time": "2020-09-21T02:45:50.414653",
          "status": "completed"
        },
        "tags": [],
        "id": "pJ1bc3fv4CWI",
        "colab_type": "code",
        "colab": {}
      },
      "source": [
        "#model.compile(optimizer='rmsprop', loss='binary_crossentropy', metrics=['acc'])\n",
        "#history = model.fit(X_train,Y_train,epochs=10,batch_size=64,validation_data=(X_test,Y_test))\n"
      ],
      "execution_count": null,
      "outputs": []
    },
    {
      "cell_type": "code",
      "metadata": {
        "execution": {
          "iopub.execute_input": "2020-09-21T02:46:12.478338Z",
          "iopub.status.busy": "2020-09-21T02:46:12.477323Z",
          "iopub.status.idle": "2020-09-21T02:46:12.901709Z",
          "shell.execute_reply": "2020-09-21T02:46:12.901120Z"
        },
        "papermill": {
          "duration": 7.895305,
          "end_time": "2020-09-21T02:46:12.901851",
          "exception": false,
          "start_time": "2020-09-21T02:46:05.006546",
          "status": "completed"
        },
        "tags": [],
        "id": "mJwYCFH54CWR",
        "colab_type": "code",
        "colab": {},
        "outputId": "976f9fee-604a-4fbd-ce53-d537a7d510a8"
      },
      "source": [
        "import matplotlib.pyplot as plt\n",
        "acc = history.history['acc']\n",
        "val_acc = history.history['val_acc']\n",
        "loss = history.history['loss']\n",
        "val_loss = history.history['val_loss']\n",
        "epochs = range(1, len(acc) + 1)\n",
        "plt.plot(epochs, acc, 'bo', label='Training acc')\n",
        "plt.plot(epochs, val_acc, 'b', label='Validation acc')\n",
        "plt.title('Training and validation accuracy')\n",
        "plt.legend()\n",
        "plt.figure()\n",
        "plt.plot(epochs, loss, 'bo', label='Training loss')\n",
        "plt.plot(epochs, val_loss, 'b', label='Validation loss')\n",
        "plt.title('Training and validation loss')\n",
        "plt.legend()\n",
        "plt.show()"
      ],
      "execution_count": null,
      "outputs": [
        {
          "output_type": "error",
          "ename": "KeyError",
          "evalue": "'acc'",
          "traceback": [
            "\u001b[0;31m---------------------------------------------------------------------------\u001b[0m",
            "\u001b[0;31mKeyError\u001b[0m                                  Traceback (most recent call last)",
            "\u001b[0;32m<ipython-input-22-2a1f94d895e5>\u001b[0m in \u001b[0;36m<module>\u001b[0;34m\u001b[0m\n\u001b[1;32m      1\u001b[0m \u001b[0;32mimport\u001b[0m \u001b[0mmatplotlib\u001b[0m\u001b[0;34m.\u001b[0m\u001b[0mpyplot\u001b[0m \u001b[0;32mas\u001b[0m \u001b[0mplt\u001b[0m\u001b[0;34m\u001b[0m\u001b[0;34m\u001b[0m\u001b[0m\n\u001b[0;32m----> 2\u001b[0;31m \u001b[0macc\u001b[0m \u001b[0;34m=\u001b[0m \u001b[0mhistory\u001b[0m\u001b[0;34m.\u001b[0m\u001b[0mhistory\u001b[0m\u001b[0;34m[\u001b[0m\u001b[0;34m'acc'\u001b[0m\u001b[0;34m]\u001b[0m\u001b[0;34m\u001b[0m\u001b[0;34m\u001b[0m\u001b[0m\n\u001b[0m\u001b[1;32m      3\u001b[0m \u001b[0mval_acc\u001b[0m \u001b[0;34m=\u001b[0m \u001b[0mhistory\u001b[0m\u001b[0;34m.\u001b[0m\u001b[0mhistory\u001b[0m\u001b[0;34m[\u001b[0m\u001b[0;34m'val_acc'\u001b[0m\u001b[0;34m]\u001b[0m\u001b[0;34m\u001b[0m\u001b[0;34m\u001b[0m\u001b[0m\n\u001b[1;32m      4\u001b[0m \u001b[0mloss\u001b[0m \u001b[0;34m=\u001b[0m \u001b[0mhistory\u001b[0m\u001b[0;34m.\u001b[0m\u001b[0mhistory\u001b[0m\u001b[0;34m[\u001b[0m\u001b[0;34m'loss'\u001b[0m\u001b[0;34m]\u001b[0m\u001b[0;34m\u001b[0m\u001b[0;34m\u001b[0m\u001b[0m\n\u001b[1;32m      5\u001b[0m \u001b[0mval_loss\u001b[0m \u001b[0;34m=\u001b[0m \u001b[0mhistory\u001b[0m\u001b[0;34m.\u001b[0m\u001b[0mhistory\u001b[0m\u001b[0;34m[\u001b[0m\u001b[0;34m'val_loss'\u001b[0m\u001b[0;34m]\u001b[0m\u001b[0;34m\u001b[0m\u001b[0;34m\u001b[0m\u001b[0m\n",
            "\u001b[0;31mKeyError\u001b[0m: 'acc'"
          ]
        }
      ]
    },
    {
      "cell_type": "code",
      "metadata": {
        "execution": {
          "iopub.execute_input": "2020-09-21T02:46:27.367594Z",
          "iopub.status.busy": "2020-09-21T02:46:27.366866Z",
          "iopub.status.idle": "2020-09-21T02:46:27.370299Z",
          "shell.execute_reply": "2020-09-21T02:46:27.369620Z"
        },
        "papermill": {
          "duration": 7.317705,
          "end_time": "2020-09-21T02:46:27.370426",
          "exception": false,
          "start_time": "2020-09-21T02:46:20.052721",
          "status": "completed"
        },
        "tags": [],
        "id": "CYrOcORr4CWY",
        "colab_type": "code",
        "colab": {}
      },
      "source": [
        "def test(model):\n",
        "    f1_score = lambda precision, recall: 2 * ((precision * recall) / (precision + recall))\n",
        "    nexamples, recall, precision = model.test('fasttext.test')\n",
        "    print (f'recall: {recall}' )\n",
        "    print (f'precision: {precision}')\n",
        "    print (f'f1 score: {f1_score(precision,recall)}')\n",
        "    print (f'number of examples: {nexamples}')\n"
      ],
      "execution_count": null,
      "outputs": []
    }
  ]
}